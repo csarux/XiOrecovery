{
 "cells": [
  {
   "cell_type": "markdown",
   "metadata": {
    "id": "gWdwQpY5opCH"
   },
   "source": [
    "# Recuperación de pacientes del archivo de XiO\n",
    "---------"
   ]
  },
  {
   "cell_type": "markdown",
   "metadata": {
    "id": "TiSfaDJDohWL"
   },
   "source": [
    "# Procedimiento"
   ]
  },
  {
   "cell_type": "markdown",
   "metadata": {
    "id": "KeindSxIo2JZ"
   },
   "source": [
    "- Configurar las herramientas necesarias\n",
    "- Recuperar mediante FTP los datos archivados de XiO (herramientas externas)\n",
    "- Subir a **gDrive** de Radiofísica los datos archivados\n",
    "- Introducir los parámetros relevantes\n",
    "- Correr los scripts de recuparación\n",
    "- Descargar los archivos recuperados\n",
    "- Limpiar en gDrive los archivos creados"
   ]
  },
  {
   "cell_type": "markdown",
   "metadata": {
    "id": "NIag7zXboZCE"
   },
   "source": [
    "## Configuración de herramientas"
   ]
  },
  {
   "cell_type": "markdown",
   "metadata": {
    "id": "T28GZaQzqPvz"
   },
   "source": [
    "Instalación de `plastimatch` y `tree`"
   ]
  },
  {
   "cell_type": "code",
   "execution_count": null,
   "metadata": {
    "executionInfo": {
     "elapsed": 5920,
     "status": "ok",
     "timestamp": 1687249628759,
     "user": {
      "displayName": "Servicio Radiofísica",
      "userId": "13053774245275861758"
     },
     "user_tz": -120
    },
    "id": "MJSHj6h6qd2B"
   },
   "outputs": [],
   "source": [
    "%%capture\n",
    "#!sudo apt update\n",
    "\n",
    "!sudo apt install plastimatch\n",
    "\n",
    "!sudo apt install tree"
   ]
  },
  {
   "cell_type": "markdown",
   "metadata": {
    "id": "FZTA2HBpqwBI"
   },
   "source": [
    "Instalación e importación de los módulos `pydicom` y `pyplastimatch`"
   ]
  },
  {
   "cell_type": "code",
   "execution_count": null,
   "metadata": {
    "executionInfo": {
     "elapsed": 6423,
     "status": "ok",
     "timestamp": 1687249635172,
     "user": {
      "displayName": "Servicio Radiofísica",
      "userId": "13053774245275861758"
     },
     "user_tz": -120
    },
    "id": "yStE6_cCrQRX"
   },
   "outputs": [],
   "source": [
    "%%capture\n",
    "\n",
    "# Instalación de módulos\n",
    "%pip install pydicom\n",
    "%pip install pyplastimatch\n",
    "\n",
    "# Importación de módulos\n",
    "# - Manipulación de archivos DICOM\n",
    "import pydicom as dicom\n",
    "# - Conversión del formato nativo de XiO a DICOM\n",
    "import pyplastimatch as plast"
   ]
  },
  {
   "cell_type": "markdown",
   "metadata": {
    "id": "8fucg8HVsAhL"
   },
   "source": [
    "Cargar los módulos necesrios"
   ]
  },
  {
   "cell_type": "code",
   "execution_count": null,
   "metadata": {
    "executionInfo": {
     "elapsed": 6,
     "status": "ok",
     "timestamp": 1687249635172,
     "user": {
      "displayName": "Servicio Radiofísica",
      "userId": "13053774245275861758"
     },
     "user_tz": -120
    },
    "id": "usi-_za8sETb"
   },
   "outputs": [],
   "source": [
    "# - Acceso a los datos en gDrive\n",
    "from google.colab import drive\n",
    "# - Rutas y comprobaciones de existencia de ficheros\n",
    "from os import path\n",
    "from pathlib import Path\n",
    "from glob import glob\n",
    "from sys import path as syspath\n",
    "# - Utilidades de archivo entre gDrive y el sistema local de archivos\n",
    "from google.colab import files"
   ]
  },
  {
   "cell_type": "markdown",
   "metadata": {
    "id": "3JipHJAjr1Hd"
   },
   "source": [
    "Montar el disco"
   ]
  },
  {
   "cell_type": "code",
   "execution_count": null,
   "metadata": {
    "colab": {
     "base_uri": "https://localhost:8080/"
    },
    "executionInfo": {
     "elapsed": 2480,
     "status": "ok",
     "timestamp": 1687249637647,
     "user": {
      "displayName": "Servicio Radiofísica",
      "userId": "13053774245275861758"
     },
     "user_tz": -120
    },
    "id": "3-pfQBcCsuYp",
    "outputId": "9f01287d-3d70-4d36-c3ec-60059cfdc827"
   },
   "outputs": [],
   "source": [
    "drive.mount('/content/gdrive')"
   ]
  },
  {
   "cell_type": "markdown",
   "metadata": {
    "id": "bjkW5zXcohPT"
   },
   "source": [
    "Crear uan referencia al directorio base de trabajo, crearlo e ir a él"
   ]
  },
  {
   "cell_type": "code",
   "execution_count": null,
   "metadata": {
    "executionInfo": {
     "elapsed": 15,
     "status": "ok",
     "timestamp": 1687249637648,
     "user": {
      "displayName": "Servicio Radiofísica",
      "userId": "13053774245275861758"
     },
     "user_tz": -120
    },
    "id": "QkjUc2t-o0ZQ"
   },
   "outputs": [],
   "source": [
    "%%capture\n",
    "# Referenciar\n",
    "baseworkdir = '/content/gdrive/MyDrive/XiO'\n",
    "\n",
    "# Crear el directorio\n",
    "!mkdir -p $baseworkdir\n",
    "\n",
    "# Ir al directorio base\n",
    "%cd $baseworkdir"
   ]
  },
  {
   "cell_type": "markdown",
   "metadata": {
    "id": "oJ1dwy3Es4x_"
   },
   "source": [
    "Crear la carpeta `scripts` en el directorio base de trabajo en **gDrive** y descargar los scripts que complementan el funcionamiento de `plastimatch`"
   ]
  },
  {
   "cell_type": "code",
   "execution_count": null,
   "metadata": {
    "executionInfo": {
     "elapsed": 999,
     "status": "ok",
     "timestamp": 1687249638634,
     "user": {
      "displayName": "Servicio Radiofísica",
      "userId": "13053774245275861758"
     },
     "user_tz": -120
    },
    "id": "yjFVnHQ2EZgp"
   },
   "outputs": [],
   "source": [
    "%%capture\n",
    "# Descargar los scripts de corrección\n",
    "if Path(baseworkdir + '/scripts').exists():\n",
    "  !rm -rf $baseworkdir/scripts\n",
    "!mkdir -p $baseworkdir/scripts\n",
    "!wget --directory-prefix $baseworkdir/scripts https://raw.githubusercontent.com/csarux/XiOrecovery/main/scripts/xioss\n",
    "!wget --directory-prefix $baseworkdir/scripts https://raw.githubusercontent.com/csarux/XiOrecovery/main/scripts/genindex\n",
    "!wget --directory-prefix $baseworkdir/scripts https://raw.githubusercontent.com/csarux/XiOrecovery/main/scripts/deltact\n",
    "!wget --directory-prefix $baseworkdir/scripts https://raw.githubusercontent.com/csarux/XiOrecovery/main/scripts/dcmcoher.py\n",
    "\n",
    "\n",
    "# Añadir al sistema la ruta de los scripts\n",
    "if baseworkdir + '/scripts' not in syspath:\n",
    "  syspath.insert(0, baseworkdir + '/scripts')\n",
    "\n",
    "# Comprobar si el plan genérico con un único campo está y si no descargarlo\n",
    "if not Path('RTPlan.dcm').exists():\n",
    "  !wget https://raw.githubusercontent.com/csarux/XiOrecovery/main/DICOMSets/RTPlan.dcm"
   ]
  },
  {
   "cell_type": "markdown",
   "metadata": {
    "id": "CsFuDR1-rY0T"
   },
   "source": [
    "## Subir a **gDrive** de Radiofísica los datos archivados"
   ]
  },
  {
   "cell_type": "markdown",
   "metadata": {
    "id": "zx45sYLZ9Z0V"
   },
   "source": [
    "Arrastrar sobre la carpeta XiO el archivo `.tgz` recuperado"
   ]
  },
  {
   "cell_type": "markdown",
   "metadata": {
    "id": "u07ojSbyc4eK"
   },
   "source": [
    "Listar pacientes archivados presentes en el directorio base"
   ]
  },
  {
   "cell_type": "code",
   "execution_count": null,
   "metadata": {
    "colab": {
     "base_uri": "https://localhost:8080/"
    },
    "executionInfo": {
     "elapsed": 359,
     "status": "ok",
     "timestamp": 1687249668953,
     "user": {
      "displayName": "Servicio Radiofísica",
      "userId": "13053774245275861758"
     },
     "user_tz": -120
    },
    "id": "XrxWN_VnhMIc",
    "outputId": "04346163-33dc-44ba-a727-0377ffa95333"
   },
   "outputs": [],
   "source": [
    "!ls -l $baseworkdir/*.tgz"
   ]
  },
  {
   "cell_type": "markdown",
   "metadata": {
    "id": "7RTAZH1Ghavd"
   },
   "source": [
    "Definir el fichero que contiene el nombre del paciente archivado"
   ]
  },
  {
   "cell_type": "markdown",
   "metadata": {
    "id": "HPIHJ2zfqcxW"
   },
   "source": [
    "## Introducir los parámetros relevantes"
   ]
  },
  {
   "cell_type": "code",
   "execution_count": null,
   "metadata": {
    "executionInfo": {
     "elapsed": 280,
     "status": "ok",
     "timestamp": 1687249711779,
     "user": {
      "displayName": "Servicio Radiofísica",
      "userId": "13053774245275861758"
     },
     "user_tz": -120
    },
    "id": "ssox7DnKhpkI"
   },
   "outputs": [],
   "source": [
    "ArchivedPatient = '185834_ALONSO_ANTON_MILAGROS_Oct_17_2011.tgz'  #@param {type: \"string\"}"
   ]
  },
  {
   "cell_type": "markdown",
   "metadata": {
    "id": "PuysNP-lEl-P"
   },
   "source": [
    "Extaer los datos archivados"
   ]
  },
  {
   "cell_type": "code",
   "execution_count": null,
   "metadata": {
    "executionInfo": {
     "elapsed": 105536,
     "status": "ok",
     "timestamp": 1687249828144,
     "user": {
      "displayName": "Servicio Radiofísica",
      "userId": "13053774245275861758"
     },
     "user_tz": -120
    },
    "id": "Haob9qoaEpKB"
   },
   "outputs": [],
   "source": [
    "%%capture\n",
    "!tar -xvzf $ArchivedPatient"
   ]
  },
  {
   "cell_type": "markdown",
   "metadata": {
    "id": "_H8AGnHe9WYc"
   },
   "source": [
    "Inferir el nýumero de historia a partir del fichero archivado"
   ]
  },
  {
   "cell_type": "code",
   "execution_count": null,
   "metadata": {
    "colab": {
     "base_uri": "https://localhost:8080/",
     "height": 36
    },
    "executionInfo": {
     "elapsed": 256,
     "status": "ok",
     "timestamp": 1687249844452,
     "user": {
      "displayName": "Servicio Radiofísica",
      "userId": "13053774245275861758"
     },
     "user_tz": -120
    },
    "id": "bDwhJ5dH88UV",
    "outputId": "96bdd6ee-62f5-4b38-deb0-621c98bae7af"
   },
   "outputs": [],
   "source": [
    "PatientID = ArchivedPatient.split('_')[0]\n",
    "PatientID"
   ]
  },
  {
   "cell_type": "markdown",
   "metadata": {
    "id": "08GtGeEw_k9H"
   },
   "source": [
    "Recuperar los apellidos y nombre del paciente almacenados en el fichero `demographic` de XiO"
   ]
  },
  {
   "cell_type": "code",
   "execution_count": null,
   "metadata": {
    "colab": {
     "base_uri": "https://localhost:8080/",
     "height": 36
    },
    "executionInfo": {
     "elapsed": 324,
     "status": "ok",
     "timestamp": 1687249848128,
     "user": {
      "displayName": "Servicio Radiofísica",
      "userId": "13053774245275861758"
     },
     "user_tz": -120
    },
    "id": "JupA0Ugm7Cis",
    "outputId": "fb94aeca-a1c8-4924-83db-c1a81d32cdae"
   },
   "outputs": [],
   "source": [
    "demographicfile = !find ./patient/$PatientID -name demographic -print\n",
    "with open(demographicfile[0]) as demogf:\n",
    "  demographicdata = demogf.read()\n",
    "\n",
    "ApellidosNombre = demographicdata.split('\\n')[2]\n",
    "ApellidosNombre"
   ]
  },
  {
   "cell_type": "markdown",
   "metadata": {
    "id": "Qc-KRMvG3OQm"
   },
   "source": [
    "Visualizar la estructura de carpetas creadas"
   ]
  },
  {
   "cell_type": "code",
   "execution_count": null,
   "metadata": {
    "colab": {
     "base_uri": "https://localhost:8080/"
    },
    "executionInfo": {
     "elapsed": 1135,
     "status": "ok",
     "timestamp": 1687249854531,
     "user": {
      "displayName": "Servicio Radiofísica",
      "userId": "13053774245275861758"
     },
     "user_tz": -120
    },
    "id": "Q-gWsTOc3R46",
    "outputId": "c3df7a9f-9a1d-4361-b1ea-54304a6ef2ea"
   },
   "outputs": [],
   "source": [
    "!tree -d patient/$PatientID"
   ]
  },
  {
   "cell_type": "markdown",
   "metadata": {
    "id": "mJ3tm5Ya2saN"
   },
   "source": [
    "Definir las variables con la identificación del estudio CT y el nombre del plan"
   ]
  },
  {
   "cell_type": "code",
   "execution_count": null,
   "metadata": {
    "executionInfo": {
     "elapsed": 265,
     "status": "ok",
     "timestamp": 1687251717956,
     "user": {
      "displayName": "Servicio Radiofísica",
      "userId": "13053774245275861758"
     },
     "user_tz": -120
    },
    "id": "IPMkv8Bu2xft"
   },
   "outputs": [],
   "source": [
    "CT = 'CT1' #@param {type: \"string\"}\n",
    "Plan ='IMRTCBCT' #@param {type: \"string\"}"
   ]
  },
  {
   "cell_type": "markdown",
   "metadata": {
    "id": "gjFKfGZ_que6"
   },
   "source": [
    "Definir las variables de la prescripción"
   ]
  },
  {
   "cell_type": "code",
   "execution_count": null,
   "metadata": {
    "executionInfo": {
     "elapsed": 353,
     "status": "ok",
     "timestamp": 1687250076903,
     "user": {
      "displayName": "Servicio Radiofísica",
      "userId": "13053774245275861758"
     },
     "user_tz": -120
    },
    "id": "035EghPAqhCY"
   },
   "outputs": [],
   "source": [
    "DosisTotal = 66.  #@param {type: \"number\"}\n",
    "NumeroSesiones = 33 #@param {type: \"integer\"}\n",
    "DosisSesion =2.0 #@param {type: \"number\"}"
   ]
  },
  {
   "cell_type": "markdown",
   "metadata": {
    "id": "tsLMgtRp-hc_"
   },
   "source": [
    "## Correr los scripts de recuperación"
   ]
  },
  {
   "cell_type": "markdown",
   "metadata": {
    "id": "i8WbeHS-DbDM"
   },
   "source": [
    "**Estrategia**\n",
    "\n",
    "- Crear el índice de las imágenes de CT si no existe\n",
    "- Recuperar las estructuras a partir de los archivos de texto `.msh`\n",
    "- Recuperar los cortes de CT si el directorio DCMData no existe\n",
    "- Transformar estructuras y dosis a formato DICOM\n",
    "- Introducir un plan básico genérico y asociarle a la dosis recpuerada y al conjunto de estructuras\n",
    "- Establecer una marco de referencia coherente entre las imágenes CT y el conjunto plan, dosis, estructuras\n",
    "\n",
    "####Reacondicionamiento de los archivos de las estructuras"
   ]
  },
  {
   "cell_type": "code",
   "execution_count": null,
   "metadata": {
    "colab": {
     "base_uri": "https://localhost:8080/"
    },
    "executionInfo": {
     "elapsed": 8177,
     "status": "ok",
     "timestamp": 1687250198600,
     "user": {
      "displayName": "Servicio Radiofísica",
      "userId": "13053774245275861758"
     },
     "user_tz": -120
    },
    "id": "UJO9ci-Bbd6I",
    "outputId": "cfc6b152-3666-4ee7-e2d3-4e4a1d94ca17"
   },
   "outputs": [],
   "source": [
    "# Si no existe crear el índice de imágenes CT y las máscaras `.mha` de todas las estructuras\n",
    "if not Path(baseworkdir + '/patient/' + PatientID + '/anatomy/studyset/' + CT + '/index.dat').exists():\n",
    "  # Copiar el script para la creación del índice de cortes de CT\n",
    "  !cp scripts/genindex patient/$PatientID/anatomy/studyset/$CT\n",
    "\n",
    "  # Cambiar el directorio de trabajo\n",
    "  %cd patient/$PatientID/anatomy/studyset/$CT\n",
    "\n",
    "  # Adjudicar permisos de ejecución y crear el índice\n",
    "  !sudo chmod +x genindex\n",
    "  !./genindex\n",
    "\n",
    "# Cambiar el directorio de trabajo\n",
    "%cd patient/$PatientID/anatomy/studyset/$CT\n",
    "\n",
    "# Crear la carpeta para los archivos máscara con las estructuras\n",
    "!mkdir -p ./ss\n",
    "\n",
    "# Copiar el script para la creación de las estructuras\n",
    "!cp $baseworkdir/scripts/xioss .\n",
    "\n",
    "# Correr el script de recuperación de las estructuras\n",
    "!sudo chmod +x xioss\n",
    "!./xioss --input $baseworkdir/patient/$PatientID --plan $Plan --studyset $CT > xioss.log"
   ]
  },
  {
   "cell_type": "markdown",
   "metadata": {},
   "source": [
    "####Recuperación del CT a partir del formato XiO si el directorio DCMData no existe"
   ]
  },
  {
   "cell_type": "code",
   "execution_count": null,
   "metadata": {},
   "outputs": [],
   "source": [
    "# Si no existe el directorio DMCData convertir los datos de XiO a nrrd y después transformarlos en cortes de CT en formato DICOM\n",
    "if not Path(baseworkdir + '/patient/' + PatientID + '/anatomy/studyset/' + CT + '/DCMData').exists():\n",
    "    # Regresar al drectorio base\n",
    "    %cd $baseworkdir\n",
    "\n",
    "    ### - Conversión de XiO a nrrd - ###\n",
    "    # Variables de pyplastimatch\n",
    "    verbose = True\n",
    "    path_to_logfile_xiodcm = './' + PatientID + '_xio_nrrd.log'\n",
    "    # Opciones de plastimatch convert\n",
    "    convert_args_rt ={'input' :  'patient/' + PatientID,\n",
    "                      'output-img' : 'ct.temp.nrrd'}  \n",
    "    # Correr plastimatch para pasar de XiO a nrrd\n",
    "    plast.convert(verbose=verbose, path_to_log_file=path_to_logfile_xiodcm, **convert_args_rt )\n",
    "    \n",
    "    ### - Conversión de nrrd a DICOM - ###\n",
    "    # Variables de pyplastimatch\n",
    "    verbose = True\n",
    "    path_to_logfile_xiodcm = './' + PatientID + 'nrrd_dicom.log'\n",
    "    # Opciones de plastimatch convert\n",
    "    convert_args_rt ={'input' :  'ct.temp.nrrd',\n",
    "                      'output-dicom' : baseworkdir + '/patient/' + PatientID + '/anatomy/studyset/' + CT + '/DCMData'}  \n",
    "    # Correr plastimatch para pasar de nrrd a DICOM y guardar los cortes en el directorio DCMData\n",
    "    plast.convert(verbose=verbose, path_to_log_file=path_to_logfile_xiodcm, **convert_args_rt )\n",
    "    "
   ]
  },
  {
   "cell_type": "markdown",
   "metadata": {
    "id": "oziLQG4Sce_E"
   },
   "source": [
    "####Recuperación del CT, las estructuras y la dosis"
   ]
  },
  {
   "cell_type": "code",
   "execution_count": null,
   "metadata": {
    "colab": {
     "base_uri": "https://localhost:8080/"
    },
    "executionInfo": {
     "elapsed": 23318,
     "status": "ok",
     "timestamp": 1687251745714,
     "user": {
      "displayName": "Servicio Radiofísica",
      "userId": "13053774245275861758"
     },
     "user_tz": -120
    },
    "id": "WJCqtLsCagwc",
    "outputId": "fb10f93f-bbc4-4c3a-e5eb-0e5a4cef0a81"
   },
   "outputs": [],
   "source": [
    "# Regresar al directorio base\n",
    "%cd $baseworkdir\n",
    "\n",
    "# Variables de pyplastimatch\n",
    "verbose = True\n",
    "path_to_logfile_xiodcm = './' + PatientID + '_xiodcm.log'\n",
    "\n",
    "# Opciones de plastimatch convert\n",
    "convert_args_rt ={'input' :  'patient/' + PatientID  + '/anatomy/studyset/' + CT + '/DCMData',\n",
    "                  'input-prefix' : 'patient/' + PatientID  + '/anatomy/studyset/' + CT + '/ss',\n",
    "                  'input-dose-xio' : 'patient/' + PatientID  + '/plan/' + Plan + '/dose.1',\n",
    "                  'output-dicom' : 'xiodcm'}\n",
    "\n",
    "# Correr el script de conversión de los datos XiO en estudio DICOM\n",
    "plast.convert(verbose=verbose, path_to_log_file=path_to_logfile_xiodcm, **convert_args_rt )\n"
   ]
  },
  {
   "cell_type": "markdown",
   "metadata": {
    "id": "G3rhxQM6ct8W"
   },
   "source": [
    "####Añadir un plan genérico y fijar un marco coherente de referencia"
   ]
  },
  {
   "cell_type": "code",
   "execution_count": null,
   "metadata": {
    "colab": {
     "base_uri": "https://localhost:8080/"
    },
    "executionInfo": {
     "elapsed": 474,
     "status": "ok",
     "timestamp": 1687251773813,
     "user": {
      "displayName": "Servicio Radiofísica",
      "userId": "13053774245275861758"
     },
     "user_tz": -120
    },
    "id": "wLoIxt0c_3pP",
    "outputId": "fee278f2-8997-488a-a3b3-4d2682a073b4"
   },
   "outputs": [],
   "source": [
    "%cd patient"
   ]
  },
  {
   "cell_type": "code",
   "execution_count": null,
   "metadata": {
    "colab": {
     "base_uri": "https://localhost:8080/"
    },
    "executionInfo": {
     "elapsed": 2879,
     "status": "ok",
     "timestamp": 1687251789521,
     "user": {
      "displayName": "Servicio Radiofísica",
      "userId": "13053774245275861758"
     },
     "user_tz": -120
    },
    "id": "H3bmgkm6a7_O",
    "outputId": "8e44e9a3-e3a9-4ad7-c28d-c1c30bce142d"
   },
   "outputs": [],
   "source": [
    "# Copiar el script para determinar el delta entre los marcos de referencia del estudio CT y el plan\n",
    "!cp $baseworkdir/scripts/deltact .\n",
    "\n",
    "## Asegurar que el archivo se actualiza\n",
    "if Path('./deltaframes').exists():\n",
    "  !rm -f ./deltaframes\n",
    "## Adjudicar permisos de ejecución y calcular el delta\n",
    "!sudo chmod +x deltact\n",
    "!./deltact --input $PatientID --studyset $CT > deltact.log\n",
    "\n",
    "## Regresar al directorio base\n",
    "%cd $baseworkdir\n",
    "\n",
    "# Incorporar el plan genérico\n",
    "!cp RTPlan.dcm xiodcm\n",
    "\n",
    "# Importar las herramientas de corrección\n",
    "from dcmcoher import correctImagePositionPatientInCTImages, correctRTPlan\n",
    "\n",
    "# Asociar al plan las dosis y estructuras\n",
    "correctRTPlan()\n",
    "\n",
    "# Establecer el mismo marco de referencia en todo el estudio\n",
    "correctImagePositionPatientInCTImages(patientID=PatientID, studyset=CT)"
   ]
  },
  {
   "cell_type": "markdown",
   "metadata": {
    "id": "DHYYzHo6aUnM"
   },
   "source": [
    "## Descargar los archivos recuperados"
   ]
  },
  {
   "cell_type": "code",
   "execution_count": null,
   "metadata": {
    "colab": {
     "base_uri": "https://localhost:8080/",
     "height": 17
    },
    "executionInfo": {
     "elapsed": 7468,
     "status": "ok",
     "timestamp": 1687251803533,
     "user": {
      "displayName": "Servicio Radiofísica",
      "userId": "13053774245275861758"
     },
     "user_tz": -120
    },
    "id": "N45DLDoJY--8",
    "outputId": "4fd4deed-30b8-4ef2-e8cf-deaba50b5b1e"
   },
   "outputs": [],
   "source": [
    "!zip -rq xiodcm.zip xiodcm\n",
    "files.download('xiodcm.zip')"
   ]
  },
  {
   "cell_type": "markdown",
   "metadata": {
    "id": "te98FW5OYKQ-"
   },
   "source": [
    "## Limpiar gDrive"
   ]
  },
  {
   "cell_type": "code",
   "execution_count": null,
   "metadata": {
    "id": "UnT4HLSwD8h7"
   },
   "outputs": [],
   "source": [
    "!rm -rf xiodcm patient xiodcm.zip *.log $ArchivedPatient"
   ]
  },
  {
   "cell_type": "code",
   "execution_count": null,
   "metadata": {
    "id": "P7sR1SCCuGHO"
   },
   "outputs": [],
   "source": [
    "!rm -rf xiodcm patient xiodcm.zip *.log"
   ]
  },
  {
   "cell_type": "code",
   "execution_count": null,
   "metadata": {
    "executionInfo": {
     "elapsed": 17826,
     "status": "ok",
     "timestamp": 1687255674818,
     "user": {
      "displayName": "Servicio Radiofísica",
      "userId": "13053774245275861758"
     },
     "user_tz": -120
    },
    "id": "kbURL6a9Mr8Y"
   },
   "outputs": [],
   "source": [
    "from pydrive.auth import GoogleAuth\n",
    "from pydrive.drive import GoogleDrive\n",
    "from google.colab import auth\n",
    "from oauth2client.client import GoogleCredentials\n",
    "\n",
    "auth.authenticate_user()\n",
    "gauth = GoogleAuth()\n",
    "gauth.credentials = GoogleCredentials.get_application_default()\n",
    "gdrive = GoogleDrive(gauth)"
   ]
  },
  {
   "cell_type": "code",
   "execution_count": null,
   "metadata": {
    "executionInfo": {
     "elapsed": 1762,
     "status": "ok",
     "timestamp": 1687255845345,
     "user": {
      "displayName": "Servicio Radiofísica",
      "userId": "13053774245275861758"
     },
     "user_tz": -120
    },
    "id": "9TOuiAhjMtdo"
   },
   "outputs": [],
   "source": [
    "file_list = gdrive.ListFile({'q': \"'root' in parents and trashed=false\"}).GetList()\n",
    "for file1 in file_list:\n",
    "  if file1['title'] == 'XiO' and file1['mimeType']=='application/vnd.google-apps.folder': file1.Delete()"
   ]
  },
  {
   "cell_type": "markdown",
   "metadata": {
    "id": "2SzaqHDrNhIS"
   },
   "source": [
    "\n",
    "\n",
    "-------\n",
    "## Logfiles\n",
    "\n",
    "Revisión de *logfiles*\n",
    "\n",
    "Log del plan"
   ]
  },
  {
   "cell_type": "code",
   "execution_count": null,
   "metadata": {
    "colab": {
     "base_uri": "https://localhost:8080/"
    },
    "executionInfo": {
     "elapsed": 362,
     "status": "ok",
     "timestamp": 1687255710562,
     "user": {
      "displayName": "Servicio Radiofísica",
      "userId": "13053774245275861758"
     },
     "user_tz": -120
    },
    "id": "-uFzJaaNDbDO",
    "outputId": "6440ec92-9925-4ba4-bfed-e08276b9447c"
   },
   "outputs": [],
   "source": [
    "!cat $PatientID'_xiodcm.log'"
   ]
  },
  {
   "cell_type": "markdown",
   "metadata": {
    "id": "y-nGLMVvBKYz"
   },
   "source": [
    "Log de estructuras"
   ]
  },
  {
   "cell_type": "code",
   "execution_count": null,
   "metadata": {
    "colab": {
     "base_uri": "https://localhost:8080/"
    },
    "executionInfo": {
     "elapsed": 375,
     "status": "ok",
     "timestamp": 1687255716536,
     "user": {
      "displayName": "Servicio Radiofísica",
      "userId": "13053774245275861758"
     },
     "user_tz": -120
    },
    "id": "JyK-09NJBHYR",
    "outputId": "bc1863f2-22ce-42b2-fb95-fd4ade76dea2"
   },
   "outputs": [],
   "source": [
    "!cat patient/$PatientID/anatomy/studyset/$CT/xioss.log"
   ]
  },
  {
   "cell_type": "code",
   "execution_count": null,
   "metadata": {
    "id": "gxmF7smEgphc"
   },
   "outputs": [],
   "source": []
  }
 ],
 "metadata": {
  "colab": {
   "authorship_tag": "ABX9TyOJvDOmKBzvK11WzA7tHXGf",
   "provenance": [],
   "toc_visible": true
  },
  "kernelspec": {
   "display_name": "Python 3 (ipykernel)",
   "language": "python",
   "name": "python3"
  },
  "language_info": {
   "codemirror_mode": {
    "name": "ipython",
    "version": 3
   },
   "file_extension": ".py",
   "mimetype": "text/x-python",
   "name": "python",
   "nbconvert_exporter": "python",
   "pygments_lexer": "ipython3",
   "version": "3.9.15"
  }
 },
 "nbformat": 4,
 "nbformat_minor": 4
}
