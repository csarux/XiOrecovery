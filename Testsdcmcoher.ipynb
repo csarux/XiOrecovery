{
 "cells": [
  {
   "cell_type": "code",
   "execution_count": 1,
   "id": "aa375d72-5dbf-4e9d-ba50-e4f935919de1",
   "metadata": {},
   "outputs": [],
   "source": [
    "from scripts.dcmcoher import correctImagePositionPatientInCTImages, correctRTPlan"
   ]
  },
  {
   "cell_type": "code",
   "execution_count": 2,
   "id": "027a3954-5498-45a2-ad46-f0f550fd26ae",
   "metadata": {},
   "outputs": [
    {
     "data": {
      "text/plain": [
       "'/home/radiofisica/Shares/Radiofisica/csr/XiO/XiORecovery/scripts'"
      ]
     },
     "execution_count": 2,
     "metadata": {},
     "output_type": "execute_result"
    }
   ],
   "source": [
    "%pwd"
   ]
  },
  {
   "cell_type": "code",
   "execution_count": 2,
   "id": "2efeeda3-04b8-4878-b6a6-04b7ed959805",
   "metadata": {},
   "outputs": [],
   "source": [
    "correctImagePositionPatientInCTImages(patientID='143458', studyset='CT1')"
   ]
  },
  {
   "cell_type": "code",
   "execution_count": null,
   "id": "d40d4c5d-c385-460a-931f-8e4d80e14767",
   "metadata": {},
   "outputs": [],
   "source": []
  }
 ],
 "metadata": {
  "kernelspec": {
   "display_name": "Python 3 (ipykernel)",
   "language": "python",
   "name": "python3"
  },
  "language_info": {
   "codemirror_mode": {
    "name": "ipython",
    "version": 3
   },
   "file_extension": ".py",
   "mimetype": "text/x-python",
   "name": "python",
   "nbconvert_exporter": "python",
   "pygments_lexer": "ipython3",
   "version": "3.9.7"
  }
 },
 "nbformat": 4,
 "nbformat_minor": 5
}
