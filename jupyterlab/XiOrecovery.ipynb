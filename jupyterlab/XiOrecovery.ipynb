{
 "cells": [
  {
   "cell_type": "code",
   "execution_count": 1,
   "id": "d2f7b1e4-c30c-4156-b28a-13ea9d18e4fc",
   "metadata": {},
   "outputs": [],
   "source": [
    "# Importación de módulos\n",
    "# - Manipulación de archivos DICOM\n",
    "import pydicom as dicom\n",
    "# - Conversión del formato nativo de XiO a DICOM\n",
    "import pyplastimatch as plast"
   ]
  },
  {
   "cell_type": "code",
   "execution_count": 2,
   "id": "e9451d48-490e-487c-8047-753431b9a3de",
   "metadata": {},
   "outputs": [],
   "source": [
    "# - Rutas y comprobaciones de existencia de ficheros\n",
    "from os import path\n",
    "from pathlib import Path\n",
    "from glob import glob\n",
    "from sys import path as syspath"
   ]
  },
  {
   "cell_type": "code",
   "execution_count": 3,
   "id": "93409bd0-aed6-421e-9167-507368280248",
   "metadata": {},
   "outputs": [
    {
     "data": {
      "text/plain": [
       "'/home/radiofisica/Shares/Radiofisica/XiOAriaDrive'"
      ]
     },
     "execution_count": 3,
     "metadata": {},
     "output_type": "execute_result"
    }
   ],
   "source": [
    "%pwd"
   ]
  },
  {
   "cell_type": "code",
   "execution_count": 4,
   "id": "76d9ed59-d1f2-4573-b14a-13dfb0bbee6f",
   "metadata": {},
   "outputs": [],
   "source": [
    "# Referenciar\n",
    "baseworkdir = '/home/radiofisica/Shares/Radiofisica/XiOAriaDrive/XiO'"
   ]
  },
  {
   "cell_type": "markdown",
   "id": "0c7f8c4c-c31c-420b-8866-c7365c1eb2d1",
   "metadata": {},
   "source": [
    "Crear la carpeta `scripts` en el directorio base de trabajo en **gDrive** y descargar los scripts que complementan el funcionamiento de `plastimatch`"
   ]
  },
  {
   "cell_type": "code",
   "execution_count": 15,
   "id": "f8886a38-169a-4f5f-becd-d20118692661",
   "metadata": {},
   "outputs": [
    {
     "name": "stdout",
     "output_type": "stream",
     "text": [
      "--2023-08-04 11:34:52--  https://raw.githubusercontent.com/csarux/XiOrecovery/main/scripts/xioss\n",
      "Resolving proxy.salud.madrid.org (proxy.salud.madrid.org)... 172.22.200.10\n",
      "Connecting to proxy.salud.madrid.org (proxy.salud.madrid.org)|172.22.200.10|:8080... connected.\n",
      "Proxy request sent, awaiting response... 200 OK\n",
      "Length: 7741 (7,6K) [text/plain]\n",
      "Saving to: ‘/home/radiofisica/Shares/Radiofisica/XiOAriaDrive/XiO/scripts/xioss’\n",
      "\n",
      "xioss               100%[===================>]   7,56K  --.-KB/s    in 0,002s  \n",
      "\n",
      "2023-08-04 11:34:53 (3,09 MB/s) - ‘/home/radiofisica/Shares/Radiofisica/XiOAriaDrive/XiO/scripts/xioss’ saved [7741/7741]\n",
      "\n",
      "--2023-08-04 11:34:53--  https://raw.githubusercontent.com/csarux/XiOrecovery/main/scripts/genindex\n",
      "Resolving proxy.salud.madrid.org (proxy.salud.madrid.org)... 172.22.200.10\n",
      "Connecting to proxy.salud.madrid.org (proxy.salud.madrid.org)|172.22.200.10|:8080... connected.\n",
      "Proxy request sent, awaiting response... 200 OK\n",
      "Length: 612 [text/plain]\n",
      "Saving to: ‘/home/radiofisica/Shares/Radiofisica/XiOAriaDrive/XiO/scripts/genindex’\n",
      "\n",
      "genindex            100%[===================>]     612  --.-KB/s    in 0s      \n",
      "\n",
      "2023-08-04 11:34:53 (10,9 MB/s) - ‘/home/radiofisica/Shares/Radiofisica/XiOAriaDrive/XiO/scripts/genindex’ saved [612/612]\n",
      "\n",
      "--2023-08-04 11:34:53--  https://raw.githubusercontent.com/csarux/XiOrecovery/main/scripts/deltact\n",
      "Resolving proxy.salud.madrid.org (proxy.salud.madrid.org)... 172.22.200.10\n",
      "Connecting to proxy.salud.madrid.org (proxy.salud.madrid.org)|172.22.200.10|:8080... connected.\n",
      "Proxy request sent, awaiting response... 200 OK\n",
      "Length: 2408 (2,4K) [text/plain]\n",
      "Saving to: ‘/home/radiofisica/Shares/Radiofisica/XiOAriaDrive/XiO/scripts/deltact’\n",
      "\n",
      "deltact             100%[===================>]   2,35K  --.-KB/s    in 0,002s  \n",
      "\n",
      "2023-08-04 11:34:54 (1,31 MB/s) - ‘/home/radiofisica/Shares/Radiofisica/XiOAriaDrive/XiO/scripts/deltact’ saved [2408/2408]\n",
      "\n",
      "--2023-08-04 11:34:54--  https://raw.githubusercontent.com/csarux/XiOrecovery/main/scripts/dcmcoher.py\n",
      "Resolving proxy.salud.madrid.org (proxy.salud.madrid.org)... 172.22.200.10\n",
      "Connecting to proxy.salud.madrid.org (proxy.salud.madrid.org)|172.22.200.10|:8080... connected.\n",
      "Proxy request sent, awaiting response... 200 OK\n",
      "Length: 6316 (6,2K) [text/plain]\n",
      "Saving to: ‘/home/radiofisica/Shares/Radiofisica/XiOAriaDrive/XiO/scripts/dcmcoher.py’\n",
      "\n",
      "dcmcoher.py         100%[===================>]   6,17K  --.-KB/s    in 0,002s  \n",
      "\n",
      "2023-08-04 11:34:54 (3,33 MB/s) - ‘/home/radiofisica/Shares/Radiofisica/XiOAriaDrive/XiO/scripts/dcmcoher.py’ saved [6316/6316]\n",
      "\n",
      "--2023-08-04 11:34:55--  https://raw.githubusercontent.com/csarux/XiOrecovery/main/DICOMSets/RTPlan.dcm\n",
      "Resolving proxy.salud.madrid.org (proxy.salud.madrid.org)... 172.22.200.10\n",
      "Connecting to proxy.salud.madrid.org (proxy.salud.madrid.org)|172.22.200.10|:8080... connected.\n",
      "Proxy request sent, awaiting response... 200 OK\n",
      "Length: 3320 (3,2K) [application/octet-stream]\n",
      "Saving to: ‘RTPlan.dcm’\n",
      "\n",
      "RTPlan.dcm          100%[===================>]   3,24K  --.-KB/s    in 0,002s  \n",
      "\n",
      "2023-08-04 11:34:55 (1,54 MB/s) - ‘RTPlan.dcm’ saved [3320/3320]\n",
      "\n"
     ]
    }
   ],
   "source": [
    "# Descargar los scripts de corrección\n",
    "if Path(baseworkdir + '/scripts').exists():\n",
    "  !rm -rf $baseworkdir/scripts\n",
    "!mkdir -p $baseworkdir/scripts\n",
    "!wget --directory-prefix $baseworkdir/scripts https://raw.githubusercontent.com/csarux/XiOrecovery/main/scripts/xioss\n",
    "!wget --directory-prefix $baseworkdir/scripts https://raw.githubusercontent.com/csarux/XiOrecovery/main/scripts/genindex\n",
    "!wget --directory-prefix $baseworkdir/scripts https://raw.githubusercontent.com/csarux/XiOrecovery/main/scripts/deltact\n",
    "!wget --directory-prefix $baseworkdir/scripts https://raw.githubusercontent.com/csarux/XiOrecovery/main/scripts/dcmcoher.py\n",
    "\n",
    "\n",
    "# Añadir al sistema la ruta de los scripts\n",
    "if baseworkdir + '/scripts' not in syspath:\n",
    "  syspath.insert(0, baseworkdir + '/scripts')\n",
    "\n",
    "# Comprobar si el plan genérico con un único campo está y si no descargarlo\n",
    "if not Path('RTPlan.dcm').exists():\n",
    "  !wget https://raw.githubusercontent.com/csarux/XiOrecovery/main/DICOMSets/RTPlan.dcm"
   ]
  },
  {
   "cell_type": "code",
   "execution_count": 16,
   "id": "b81ba469-6f35-472d-b012-9cd92e768f13",
   "metadata": {},
   "outputs": [],
   "source": [
    "ArchivedPatient = '584953_SALDA_A_GARCES_SANTIAGO_Mar_14_2011.tgz'"
   ]
  },
  {
   "cell_type": "code",
   "execution_count": 17,
   "id": "0c8892c8-bcba-4975-a369-646b06d8bb6a",
   "metadata": {},
   "outputs": [],
   "source": [
    "%%capture\n",
    "!tar -xvzf $ArchivedPatient"
   ]
  },
  {
   "cell_type": "code",
   "execution_count": 18,
   "id": "149b58df-9ce5-4b1b-9487-3f2d0859b631",
   "metadata": {},
   "outputs": [
    {
     "data": {
      "text/plain": [
       "'584953'"
      ]
     },
     "execution_count": 18,
     "metadata": {},
     "output_type": "execute_result"
    }
   ],
   "source": [
    "PatientID = ArchivedPatient.split('_')[0]\n",
    "PatientID"
   ]
  },
  {
   "cell_type": "code",
   "execution_count": 19,
   "id": "bab70053-852e-41e8-9288-530409bfa5a1",
   "metadata": {},
   "outputs": [
    {
     "data": {
      "text/plain": [
       "'SALDAÑA GARCES,SANTIAGO'"
      ]
     },
     "execution_count": 19,
     "metadata": {},
     "output_type": "execute_result"
    }
   ],
   "source": [
    "demographicfile = !find ./patient/$PatientID -name demographic -print\n",
    "with open(demographicfile[0], 'r', encoding='latin') as demogf:\n",
    "  demographicdata = demogf.read()\n",
    "\n",
    "ApellidosNombre = demographicdata.split('\\n')[2]\n",
    "ApellidosNombre"
   ]
  },
  {
   "cell_type": "code",
   "execution_count": 20,
   "id": "a13a6baf-ec93-4fb3-9018-f12da74e826b",
   "metadata": {},
   "outputs": [
    {
     "name": "stdout",
     "output_type": "stream",
     "text": [
      "\u001b[01;34mpatient/584953\u001b[00m\n",
      "├── \u001b[01;34manatomy\u001b[00m\n",
      "│   └── \u001b[01;34mstudyset\u001b[00m\n",
      "│       └── \u001b[01;34mCT1\u001b[00m\n",
      "│           ├── \u001b[01;34mDCMData\u001b[00m\n",
      "│           └── \u001b[01;34msurfaces\u001b[00m\n",
      "├── \u001b[01;34mdvh\u001b[00m\n",
      "└── \u001b[01;34mplan\u001b[00m\n",
      "    ├── \u001b[01;34m1FASE1B\u001b[00m\n",
      "    └── \u001b[01;34mPLANSETUP\u001b[00m\n",
      "\n",
      "9 directories\n"
     ]
    }
   ],
   "source": [
    "!tree -d patient/$PatientID"
   ]
  },
  {
   "cell_type": "code",
   "execution_count": 21,
   "id": "29b26b6e-771e-485e-a47f-ab84727d8305",
   "metadata": {},
   "outputs": [],
   "source": [
    "CT = 'CT1'\n",
    "Plan ='1FASE1B'"
   ]
  },
  {
   "cell_type": "code",
   "execution_count": 32,
   "id": "025075eb-a1a8-4ef4-8197-a91cab24214f",
   "metadata": {},
   "outputs": [
    {
     "data": {
      "text/plain": [
       "'/home/radiofisica/Shares/Radiofisica/XiOAriaDrive/XiO/patient/584953/anatomy/studyset/CT1'"
      ]
     },
     "execution_count": 32,
     "metadata": {},
     "output_type": "execute_result"
    }
   ],
   "source": [
    "%pwd"
   ]
  },
  {
   "cell_type": "code",
   "execution_count": 31,
   "id": "e4c3abbb-271d-47c2-bcbb-99cf5d615f54",
   "metadata": {},
   "outputs": [
    {
     "name": "stdout",
     "output_type": "stream",
     "text": [
      "/home/radiofisica/Shares/Radiofisica/XiOAriaDrive/XiO/patient/584953/anatomy/studyset/CT1\n",
      "[Errno 2] No such file or directory: 'patient/584953/anatomy/studyset/CT1'\n",
      "/home/radiofisica/Shares/Radiofisica/XiOAriaDrive/XiO/patient/584953/anatomy/studyset/CT1\n",
      "mv: 'ss/patient.mha' and 'ss/patient.mha' are the same file\n",
      "mv: 'ss/EXTERNO.mha' and 'ss/EXTERNO.mha' are the same file\n",
      "mv: 'ss/pulmon dcho.mha' and 'ss/pulmon dcho.mha' are the same file\n",
      "mv: 'ss/pulmon izqdo.mha' and 'ss/pulmon izqdo.mha' are the same file\n",
      "mv: 'ss/medula.mha' and 'ss/medula.mha' are the same file\n",
      "mv: 'ss/vertebra.mha' and 'ss/vertebra.mha' are the same file\n",
      "mv: 'ss/esofago.mha' and 'ss/esofago.mha' are the same file\n",
      "mv: 'ss/2+4+10+11 R.mha' and 'ss/2+4+10+11 R.mha' are the same file\n",
      "mv: 'ss/3+5.mha' and 'ss/3+5.mha' are the same file\n",
      "mv: 'ss/PTV 50.4.mha' and 'ss/PTV 50.4.mha' are the same file\n",
      "mv: 'ss/corazon.mha' and 'ss/corazon.mha' are the same file\n",
      "Use of uninitialized value in string eq at ./xioss line 152.\n",
      "Consistency lack in structure match between XiO contour file and plastimatch prefix output at ./xioss line 152.\n"
     ]
    }
   ],
   "source": [
    "# Si no existe crear el índice de imágenes CT y las máscaras `.mha` de todas las estructuras\n",
    "if not Path(baseworkdir + '/patient/' + PatientID + '/anatomy/studyset/' + CT + '/index.dat').exists():\n",
    "  # Copiar el script para la creación del índice de cortes de CT\n",
    "  !cp scripts/genindex patient/$PatientID/anatomy/studyset/$CT\n",
    "\n",
    "  # Cambiar el directorio de trabajo\n",
    "  %cd patient/$PatientID/anatomy/studyset/$CT\n",
    "\n",
    "  # Adjudicar permisos de ejecución y crear el índice\n",
    "  !chmod +x genindex\n",
    "  !./genindex\n",
    "\n",
    "# Cambiar el directorio de trabajo\n",
    "%cd patient/$PatientID/anatomy/studyset/$CT\n",
    "\n",
    "# Crear la carpeta para los archivos máscara con las estructuras\n",
    "!mkdir -p ./ss\n",
    "\n",
    "# Copiar el script para la creación de las estructuras\n",
    "!cp $baseworkdir/scripts/xioss .\n",
    "\n",
    "# Correr el script de recuperación de las estructuras\n",
    "!chmod +x xioss\n",
    "!./xioss --input $baseworkdir/patient/$PatientID --plan $Plan --studyset $CT > xioss.log"
   ]
  },
  {
   "cell_type": "code",
   "execution_count": 38,
   "id": "66542fa4-a628-4d5e-a341-bbc79f1ef82c",
   "metadata": {},
   "outputs": [
    {
     "name": "stdout",
     "output_type": "stream",
     "text": [
      "/home/radiofisica/Shares/Radiofisica/XiOAriaDrive/XiO\n",
      "\n",
      "Running 'plastimatch convert' with the specified arguments:\n",
      "  --input patient/584953/anatomy/studyset/CT1/DCMData\n",
      "  --input-prefix patient/584953/anatomy/studyset/CT1/ss\n",
      "  --input-dose-xio patient/584953/plan/1FASE1B/dose.1\n",
      "  --output-dicom xiodcm\n",
      "... Done.\n"
     ]
    }
   ],
   "source": [
    "# Regresar al directorio base\n",
    "%cd $baseworkdir\n",
    "\n",
    "# Variables de pyplastimatch\n",
    "verbose = True\n",
    "path_to_logfile_xiodcm = './' + PatientID + '_xiodcm.log'\n",
    "\n",
    "# Opciones de plastimatch convert\n",
    "convert_args_rt ={'input' :  'patient/' + PatientID  + '/anatomy/studyset/' + CT + '/DCMData',\n",
    "                  'input-prefix' : 'patient/' + PatientID  + '/anatomy/studyset/' + CT + '/ss',\n",
    "                  'input-dose-xio' : 'patient/' + PatientID  + '/plan/' + Plan + '/dose.1',\n",
    "                  'output-dicom' : 'xiodcm'}\n",
    "\n",
    "# Correr el script de conversión de los datos XiO en estudio DICOM\n",
    "plast.convert(verbose=verbose, path_to_log_file=path_to_logfile_xiodcm, **convert_args_rt )"
   ]
  },
  {
   "cell_type": "code",
   "execution_count": 39,
   "id": "89f79c38-0c72-4ff0-a2d2-0c9407d6d526",
   "metadata": {},
   "outputs": [
    {
     "name": "stdout",
     "output_type": "stream",
     "text": [
      "/home/radiofisica/Shares/Radiofisica/XiOAriaDrive/XiO/patient\n",
      "/home/radiofisica/Shares/Radiofisica/XiOAriaDrive/XiO\n"
     ]
    }
   ],
   "source": [
    "# Cambiar al directorio patient\n",
    "%cd $baseworkdir/patient\n",
    "\n",
    "# Copiar el script para determinar el delta entre los marcos de referencia del estudio CT y el plan\n",
    "!cp $baseworkdir/scripts/deltact .\n",
    "\n",
    "## Asegurar que el archivo se actualiza\n",
    "if Path('./deltaframes').exists():\n",
    "  !rm -f ./deltaframes\n",
    "## Adjudicar permisos de ejecución y calcular el delta\n",
    "!chmod +x deltact\n",
    "!./deltact --input $PatientID --studyset $CT > deltact.log\n",
    "\n",
    "## Regresar al directorio base\n",
    "%cd $baseworkdir\n",
    "\n",
    "# Incorporar el plan genérico\n",
    "!cp RTPlan.dcm xiodcm\n",
    "\n",
    "# Importar las herramientas de corrección\n",
    "from dcmcoher import correctImagePositionPatientInCTImages, correctRTPlan\n",
    "\n",
    "# Establecer el mismo marco de referencia en todo el estudio\n",
    "correctImagePositionPatientInCTImages(patientID=PatientID, studyset=CT)"
   ]
  },
  {
   "cell_type": "code",
   "execution_count": null,
   "id": "8c7533a2-a19d-4889-8ca5-d1a1249fea53",
   "metadata": {},
   "outputs": [],
   "source": []
  }
 ],
 "metadata": {
  "kernelspec": {
   "display_name": "Python 3 (ipykernel)",
   "language": "python",
   "name": "python3"
  },
  "language_info": {
   "codemirror_mode": {
    "name": "ipython",
    "version": 3
   },
   "file_extension": ".py",
   "mimetype": "text/x-python",
   "name": "python",
   "nbconvert_exporter": "python",
   "pygments_lexer": "ipython3",
   "version": "3.9.7"
  }
 },
 "nbformat": 4,
 "nbformat_minor": 5
}
