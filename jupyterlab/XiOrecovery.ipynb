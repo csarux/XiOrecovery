{
 "cells": [
  {
   "cell_type": "markdown",
   "id": "e726f676-3250-4b66-99dd-f160e1b7d513",
   "metadata": {},
   "source": [
    "# Recuperación de pacientes de XiO\n",
    "-------------------\n",
    "## Descripción\n",
    "Mediante este cuaderno datos de *pacientes archivados en XiO se convierten a formato DICOM* para su importación en ARIA.\n",
    "\n",
    "Los datos archivados en XiO están almacenados en un servidor del Hospital al que se accede mediante `ftp`\n",
    "\n",
    "La conversión utiliza los programas `plastimatch`y `Velocity`\n",
    "\n",
    "`plastimatch` recupera de los datos de XiO las imágenes de CT, las estructuras y la dosis.\n",
    "\n",
    "`Velocity` añade el plan contenedor para poder importar la dosis en ARIA.\n",
    "\n",
    "### Código\n",
    "\n",
    "Importación de módulos"
   ]
  },
  {
   "cell_type": "code",
   "execution_count": null,
   "id": "d2f7b1e4-c30c-4156-b28a-13ea9d18e4fc",
   "metadata": {},
   "outputs": [],
   "source": [
    "# - Manipulación de archivos DICOM\n",
    "import pydicom as dicom\n",
    "# - Conversión del formato nativo de XiO a DICOM\n",
    "import pyplastimatch as plast\n",
    "# - Rutas y comprobaciones de existencia de ficheros\n",
    "from os import path, getcwd\n",
    "from pathlib import Path\n",
    "from glob import glob\n",
    "from sys import path as syspath"
   ]
  },
  {
   "cell_type": "markdown",
   "id": "bc82ae51-17a8-4d48-9dd4-5438790878ca",
   "metadata": {},
   "source": [
    "Definir el directorio de trabajo base.\n",
    "\n",
    "Crear la carpeta `scripts` en el directorio de trabajo base y descargar los scripts que complementan el funcionamiento de `plastimatch`"
   ]
  },
  {
   "cell_type": "code",
   "execution_count": null,
   "id": "76d9ed59-d1f2-4573-b14a-13dfb0bbee6f",
   "metadata": {},
   "outputs": [],
   "source": [
    "# Referenciar\n",
    "baseworkdir = '/home/radiofisica/Shares/Radiofisica/XiOAriaDrive/XiO'\n",
    "if not Path(baseworkdir).exists():\n",
    "    !mkdir -p $baseworkdir\n",
    "\n",
    "# Descargar los scripts de corrección\n",
    "if Path(baseworkdir + '/scripts').exists():\n",
    "  !rm -rf $baseworkdir/scripts\n",
    "!mkdir -p $baseworkdir/scripts\n",
    "!wget --directory-prefix $baseworkdir/scripts https://raw.githubusercontent.com/csarux/XiOrecovery/main/scripts/xioss\n",
    "!wget --directory-prefix $baseworkdir/scripts https://raw.githubusercontent.com/csarux/XiOrecovery/main/scripts/genindex\n",
    "!wget --directory-prefix $baseworkdir/scripts https://raw.githubusercontent.com/csarux/XiOrecovery/main/scripts/deltact\n",
    "!wget --directory-prefix $baseworkdir/scripts https://raw.githubusercontent.com/csarux/XiOrecovery/main/scripts/dcmcoher.py\n",
    "\n",
    "# Añadir al sistema la ruta de los scripts\n",
    "if baseworkdir + '/scripts' not in syspath:\n",
    "  syspath.insert(0, baseworkdir + '/scripts')"
   ]
  },
  {
   "cell_type": "markdown",
   "id": "3d901db6-3310-4a85-b6b2-00f04d2a686b",
   "metadata": {},
   "source": [
    "Definir el nombre del archivo que contiene los datos archivados en XiO "
   ]
  },
  {
   "cell_type": "code",
   "execution_count": null,
   "id": "b81ba469-6f35-472d-b012-9cd92e768f13",
   "metadata": {},
   "outputs": [],
   "source": [
    "ArchivedPatient = '584953_SALDA_A_GARCES_SANTIAGO_Mar_14_2011.tgz'"
   ]
  },
  {
   "cell_type": "markdown",
   "id": "9b36bec1-c653-43a7-9dd6-e525afb22533",
   "metadata": {},
   "source": [
    "Desarchivar los datos de XiO"
   ]
  },
  {
   "cell_type": "code",
   "execution_count": null,
   "id": "0c8892c8-bcba-4975-a369-646b06d8bb6a",
   "metadata": {},
   "outputs": [],
   "source": [
    "%%capture\n",
    "!tar -xvzf $ArchivedPatient -C $baseworkdir"
   ]
  },
  {
   "cell_type": "markdown",
   "id": "f43189a7-4e52-4dbd-aea5-116ee8082ae1",
   "metadata": {},
   "source": [
    "Mostrar la estructura de carpetas de los datos desarchivados"
   ]
  },
  {
   "cell_type": "code",
   "execution_count": null,
   "id": "a13a6baf-ec93-4fb3-9018-f12da74e826b",
   "metadata": {},
   "outputs": [],
   "source": [
    "!tree -d $baseworkdir/patient"
   ]
  },
  {
   "cell_type": "markdown",
   "id": "458858fc-b3c2-4db5-b3ee-b17ac1f72558",
   "metadata": {},
   "source": [
    "Recuperar datos relevantes.\n",
    "\n",
    "Número de historia y nombre y apellidos del paciente"
   ]
  },
  {
   "cell_type": "code",
   "execution_count": null,
   "id": "bab70053-852e-41e8-9288-530409bfa5a1",
   "metadata": {},
   "outputs": [],
   "source": [
    "# Número de historia\n",
    "PatientID = ArchivedPatient.split('_')[0]\n",
    "\n",
    "# Nombre y apellidos\n",
    "demographicfile = !find $baseworkdir/patient/$PatientID -name demographic -print\n",
    "with open(demographicfile[0], 'r', encoding='latin') as demogf:\n",
    "  demographicdata = demogf.read()\n",
    "\n",
    "ApellidosNombre = demographicdata.split('\\n')[2]\n",
    "\n",
    "print(f'Historia: {PatientID}\\nApellidos y nombre: {ApellidosNombre}')"
   ]
  },
  {
   "cell_type": "markdown",
   "id": "96c6a494-11f9-4157-bf7b-c537130ca29c",
   "metadata": {},
   "source": [
    "Definir el estudio CT y el plan que se quiere recuperar"
   ]
  },
  {
   "cell_type": "code",
   "execution_count": null,
   "id": "29b26b6e-771e-485e-a47f-ab84727d8305",
   "metadata": {},
   "outputs": [],
   "source": [
    "CT = 'CT1'\n",
    "Plan ='1FASE1B'"
   ]
  },
  {
   "cell_type": "markdown",
   "id": "cd9e7ef4-7f80-4321-be16-1e97d215f832",
   "metadata": {},
   "source": [
    "Recuperación de las estructuras"
   ]
  },
  {
   "cell_type": "code",
   "execution_count": null,
   "id": "e4c3abbb-271d-47c2-bcbb-99cf5d615f54",
   "metadata": {},
   "outputs": [],
   "source": [
    "# Si no existe crear el índice de imágenes CT y las máscaras `.mha` de todas las estructuras\n",
    "if not Path(baseworkdir + '/patient/' + PatientID + '/anatomy/studyset/' + CT + '/index.dat').exists():\n",
    "    # Copiar el script para la creación del índice de cortes de CT\n",
    "    !cp $baseworkdir/scripts/genindex $baseworkdir/patient/$PatientID/anatomy/studyset/$CT\n",
    "    \n",
    "    # Adjudicar permisos de ejecución y crear el índice\n",
    "    !chmod +x $baseworkdir/patient/$PatientID/anatomy/studyset/$CT/genindex\n",
    "    cwd = getcwd()\n",
    "    %cd -q $baseworkdir/patient/$PatientID/anatomy/studyset/$CT\n",
    "    print('Generar el índice de imáagenes de CT...')\n",
    "    !./genindex\n",
    "    %cd -q $cwd\n",
    "\n",
    "# Crear la carpeta para los archivos máscara con las estructuras\n",
    "!mkdir -p $baseworkdir/patient/$PatientID/anatomy/studyset/$CT/ss\n",
    "\n",
    "# Copiar el script para la creación de las estructuras\n",
    "!cp $baseworkdir/scripts/xioss $baseworkdir/patient/$PatientID/anatomy/studyset/$CT\n",
    "\n",
    "# Correr el script de recuperación de las estructuras\n",
    "!chmod +x $baseworkdir/patient/$PatientID/anatomy/studyset/$CT/xioss\n",
    "print('Recuperar estructuras...')\n",
    "!$baseworkdir/patient/$PatientID/anatomy/studyset/$CT/xioss --input $baseworkdir/patient/$PatientID --plan $Plan --studyset $CT > xioss.log"
   ]
  },
  {
   "cell_type": "markdown",
   "id": "23febdab-086d-4515-ae32-df53cecb9ede",
   "metadata": {},
   "source": [
    "Conversion del CT, las estructuas y la dosis desde formato XIO a formato DICOM "
   ]
  },
  {
   "cell_type": "code",
   "execution_count": null,
   "id": "66542fa4-a628-4d5e-a341-bbc79f1ef82c",
   "metadata": {},
   "outputs": [],
   "source": [
    "# Referencia al directorio de trabajo actual\n",
    "cwd = getcwd()\n",
    "# Cambiar al directorio base\n",
    "%cd -q $baseworkdir\n",
    "\n",
    "# Variables de pyplastimatch\n",
    "verbose = True\n",
    "path_to_logfile_xiodcm = './' + PatientID + '_xiodcm.log'\n",
    "\n",
    "# Opciones de plastimatch convert\n",
    "convert_args_rt ={'input' :  'patient/' + PatientID  + '/anatomy/studyset/' + CT + '/DCMData',\n",
    "                  'input-prefix' : 'patient/' + PatientID  + '/anatomy/studyset/' + CT + '/ss',\n",
    "                  'input-dose-xio' : 'patient/' + PatientID  + '/plan/' + Plan + '/dose.1',\n",
    "                  'output-dicom' : 'xiodcm'}\n",
    "\n",
    "# Correr el script de conversión de los datos XiO en estudio DICOM\n",
    "plast.convert(verbose=verbose, path_to_log_file=path_to_logfile_xiodcm, **convert_args_rt )\n",
    "\n",
    "# Volver al directorio inicial\n",
    "%cd -q $cwd"
   ]
  },
  {
   "cell_type": "markdown",
   "id": "5e05498a-0b52-485d-a416-66d5792d51aa",
   "metadata": {},
   "source": [
    "Corrección de los marcos de referencia en los archivos DICOM"
   ]
  },
  {
   "cell_type": "code",
   "execution_count": null,
   "id": "89f79c38-0c72-4ff0-a2d2-0c9407d6d526",
   "metadata": {},
   "outputs": [],
   "source": [
    "# Referencia al directorio de trabajo actual\n",
    "cwd = getcwd()\n",
    "# Cambiar al directorio patient\n",
    "%cd -q $baseworkdir/patient\n",
    "\n",
    "# Copiar el script para determinar el delta entre los marcos de referencia del estudio CT y el plan\n",
    "!cp $baseworkdir/scripts/deltact .\n",
    "\n",
    "## Asegurar que el archivo se actualiza\n",
    "if Path('./deltaframes').exists():\n",
    "  !rm -f ./deltaframes\n",
    "## Adjudicar permisos de ejecución y calcular el delta\n",
    "!chmod +x deltact\n",
    "!./deltact --input $PatientID --studyset $CT > deltact.log\n",
    "\n",
    "## Regresar al directorio base\n",
    "%cd -q $baseworkdir\n",
    "\n",
    "# Importar las herramientas de corrección\n",
    "from dcmcoher import correctImagePositionPatientInCTImages\n",
    "\n",
    "# Establecer el mismo marco de referencia en todo el estudio\n",
    "print('Establecer el mismo marco de referencia para las imágenes CT, las estructuras y la dosis...')\n",
    "correctImagePositionPatientInCTImages(patientID=PatientID, studyset=CT)\n",
    "\n",
    "# Volver al directorio inicial\n",
    "%cd -q $cwd"
   ]
  },
  {
   "cell_type": "code",
   "execution_count": null,
   "id": "8c7533a2-a19d-4889-8ca5-d1a1249fea53",
   "metadata": {},
   "outputs": [],
   "source": []
  }
 ],
 "metadata": {
  "kernelspec": {
   "display_name": "Python 3 (ipykernel)",
   "language": "python",
   "name": "python3"
  },
  "language_info": {
   "codemirror_mode": {
    "name": "ipython",
    "version": 3
   },
   "file_extension": ".py",
   "mimetype": "text/x-python",
   "name": "python",
   "nbconvert_exporter": "python",
   "pygments_lexer": "ipython3",
   "version": "3.11.4"
  }
 },
 "nbformat": 4,
 "nbformat_minor": 5
}
