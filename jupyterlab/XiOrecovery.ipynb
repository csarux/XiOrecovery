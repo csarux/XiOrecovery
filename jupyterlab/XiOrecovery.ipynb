{
 "cells": [
  {
   "cell_type": "markdown",
   "id": "e726f676-3250-4b66-99dd-f160e1b7d513",
   "metadata": {},
   "source": [
    "# Recuperación de pacientes de XiO\n",
    "-------------------\n",
    "## Descripción\n",
    "Mediante este cuaderno datos de *pacientes archivados en XiO se convierten a formato DICOM* para su importación en ARIA.\n",
    "\n",
    "Los datos archivados en XiO están almacenados en un servidor del Hospital al que se accede mediante `ftp`\n",
    "\n",
    "La conversión utiliza los programas `plastimatch`y `Velocity`\n",
    "\n",
    "`plastimatch` recupera de los datos de XiO las imágenes de CT, las estructuras y la dosis.\n",
    "\n",
    "`Velocity` añade el plan contenedor para poder importar la dosis en ARIA.\n",
    "\n",
    "## Procedimiento\n",
    "\n",
    "* Recuperar los datos archivados del servidor del Hospital\n",
    "* Desarchivar los datos de XiO\n",
    "* Correr los scripts de recuperación de las imágenes CT, las estructuras y la dosis\n",
    "* Fijar un marco de referencia común para las imágenes CT, las estructuras y la dosis\n",
    "* Crear en Velocity un plan contenedor para la dosis\n",
    "* Importar en ARIA\n",
    "  \n",
    "### Recuperación de los datos archivados\n",
    "\n",
    "Esta fase requiere del uso de un cliente `ftp`.\n",
    "\n",
    "Se recomienda usar `FileZilla`\n",
    "\n",
    "Los datos de conexión son:\n",
    "* Servidor: 10.137.2.113\n",
    "* Nombre de usuario: radioterapia\n",
    "* Contraseña: radioterapia\n",
    "\n",
    "Pulsar sobre el botón `Conexión rápida`\n",
    "\n",
    "En Sitio remoto navegar en la ruta `Archivo/No Categorizado` para seleccionar la carpeta del paciente que se quiere recuperar\n",
    "\n",
    "Seleccionar el archivo`.tgz`. Si hay varios elegir el más reciente\n",
    "\n",
    "Arrastrar el archivo sobre la carpeta `Radiofisica/XiOAriaDrive` del Sitio Local\n",
    "\n",
    "![FileZillaMainScreen](https://raw.githubusercontent.com/csarux/XiOrecovery/main/jupyterlab/Images/FileZillaMainScreen.PNG) )\n",
    "### Desarchivar los datos de XiO"
   ]
  },
  {
   "cell_type": "markdown",
   "id": "26be3658-77f8-49d9-908e-42a204297b50",
   "metadata": {},
   "source": [
    "Definir el directorio de trabajo base"
   ]
  },
  {
   "cell_type": "code",
   "execution_count": 2,
   "id": "7fc3ee55-e47e-446c-857f-919aa57b3206",
   "metadata": {},
   "outputs": [],
   "source": [
    "# Referenciar\n",
    "baseworkdir = '/home/radiofisica/Shares/Radiofisica/XiOAriaDrive/XiO'\n",
    "\n",
    "from pathlib import Path\n",
    "if not Path(baseworkdir).exists():\n",
    "    !mkdir -p $baseworkdir"
   ]
  },
  {
   "cell_type": "markdown",
   "id": "033dd75a-5d6a-4df6-84f8-98faf6da16df",
   "metadata": {},
   "source": [
    "Definir el nombre del archivo con los datos archivados en XiO"
   ]
  },
  {
   "cell_type": "code",
   "execution_count": 3,
   "id": "b81ba469-6f35-472d-b012-9cd92e768f13",
   "metadata": {},
   "outputs": [],
   "source": [
    "ArchivedPatient = '584953_SALDA_A_GARCES_SANTIAGO_Mar_14_2011.tgz'"
   ]
  },
  {
   "cell_type": "markdown",
   "id": "9b36bec1-c653-43a7-9dd6-e525afb22533",
   "metadata": {},
   "source": [
    "Desarchivar"
   ]
  },
  {
   "cell_type": "code",
   "execution_count": 4,
   "id": "0c8892c8-bcba-4975-a369-646b06d8bb6a",
   "metadata": {},
   "outputs": [],
   "source": [
    "%%capture\n",
    "!tar -xvzf $ArchivedPatient -C $baseworkdir"
   ]
  },
  {
   "cell_type": "markdown",
   "id": "f43189a7-4e52-4dbd-aea5-116ee8082ae1",
   "metadata": {},
   "source": [
    "Mostrar la estructura de carpetas de los datos desarchivados"
   ]
  },
  {
   "cell_type": "code",
   "execution_count": 5,
   "id": "a13a6baf-ec93-4fb3-9018-f12da74e826b",
   "metadata": {},
   "outputs": [
    {
     "name": "stdout",
     "output_type": "stream",
     "text": [
      "\u001b[01;34m/home/radiofisica/Shares/Radiofisica/XiOAriaDrive/XiO/patient\u001b[00m\n",
      "└── \u001b[01;34m584953\u001b[00m\n",
      "    ├── \u001b[01;34manatomy\u001b[00m\n",
      "    │   └── \u001b[01;34mstudyset\u001b[00m\n",
      "    │       └── \u001b[01;34mCT1\u001b[00m\n",
      "    │           ├── \u001b[01;34mDCMData\u001b[00m\n",
      "    │           └── \u001b[01;34msurfaces\u001b[00m\n",
      "    ├── \u001b[01;34mdvh\u001b[00m\n",
      "    └── \u001b[01;34mplan\u001b[00m\n",
      "        ├── \u001b[01;34m1FASE1B\u001b[00m\n",
      "        └── \u001b[01;34mPLANSETUP\u001b[00m\n",
      "\n",
      "10 directories\n"
     ]
    }
   ],
   "source": [
    "!tree -d $baseworkdir/patient"
   ]
  },
  {
   "cell_type": "markdown",
   "id": "458858fc-b3c2-4db5-b3ee-b17ac1f72558",
   "metadata": {},
   "source": [
    "Recuperar datos relevantes.\n",
    "\n",
    "Número de historia y nombre y apellidos del paciente"
   ]
  },
  {
   "cell_type": "code",
   "execution_count": 12,
   "id": "bab70053-852e-41e8-9288-530409bfa5a1",
   "metadata": {},
   "outputs": [
    {
     "name": "stdout",
     "output_type": "stream",
     "text": [
      "Historia: 584953\n",
      "Apellidos y nombre: SALDAÑA GARCES,SANTIAGO\n"
     ]
    }
   ],
   "source": [
    "# Número de historia\n",
    "PatientID = ArchivedPatient.split('_')[0]\n",
    "\n",
    "# Nombre y apellidos\n",
    "demographicfile = !find $baseworkdir/patient/$PatientID -name demographic -print\n",
    "with open(demographicfile[0], 'r', encoding='latin') as demogf:\n",
    "  demographicdata = demogf.read()\n",
    "\n",
    "ApellidosNombre = demographicdata.split('\\n')[2]\n",
    "\n",
    "print(f'Historia: {PatientID}\\nApellidos y nombre: {ApellidosNombre}')"
   ]
  },
  {
   "cell_type": "markdown",
   "id": "96c6a494-11f9-4157-bf7b-c537130ca29c",
   "metadata": {},
   "source": [
    "Definir el estudio CT y el plan que se quiere recuperar"
   ]
  },
  {
   "cell_type": "code",
   "execution_count": 7,
   "id": "29b26b6e-771e-485e-a47f-ab84727d8305",
   "metadata": {},
   "outputs": [],
   "source": [
    "CT = 'CT1'\n",
    "Plan ='1FASE1B'"
   ]
  },
  {
   "cell_type": "markdown",
   "id": "a1d2031b-c17e-4428-b243-f2b773ff3b90",
   "metadata": {},
   "source": [
    "### Scripts de recuperación\n",
    "\n",
    "Importación de módulos"
   ]
  },
  {
   "cell_type": "code",
   "execution_count": 8,
   "id": "d2f7b1e4-c30c-4156-b28a-13ea9d18e4fc",
   "metadata": {},
   "outputs": [],
   "source": [
    "# - Manipulación de archivos DICOM\n",
    "import pydicom as dicom\n",
    "# - Conversión del formato nativo de XiO a DICOM\n",
    "import pyplastimatch as plast\n",
    "# - Rutas y comprobaciones de existencia de ficheros\n",
    "from os import path, getcwd\n",
    "from glob import glob\n",
    "from sys import path as syspath"
   ]
  },
  {
   "cell_type": "markdown",
   "id": "bc82ae51-17a8-4d48-9dd4-5438790878ca",
   "metadata": {},
   "source": [
    "Crear la carpeta `scripts` en el directorio de trabajo base y descargar los scripts que complementan el funcionamiento de `plastimatch`"
   ]
  },
  {
   "cell_type": "code",
   "execution_count": 9,
   "id": "76d9ed59-d1f2-4573-b14a-13dfb0bbee6f",
   "metadata": {},
   "outputs": [
    {
     "name": "stdout",
     "output_type": "stream",
     "text": [
      "--2023-08-09 14:22:27--  https://raw.githubusercontent.com/csarux/XiOrecovery/main/scripts/xioss\n",
      "Resolving proxy.salud.madrid.org (proxy.salud.madrid.org)... 172.22.200.10\n",
      "Connecting to proxy.salud.madrid.org (proxy.salud.madrid.org)|172.22.200.10|:8080... connected.\n",
      "Proxy request sent, awaiting response... 200 OK\n",
      "Length: 7741 (7,6K) [text/plain]\n",
      "Saving to: ‘/home/radiofisica/Shares/Radiofisica/XiOAriaDrive/XiO/scripts/xioss’\n",
      "\n",
      "xioss               100%[===================>]   7,56K  --.-KB/s    in 0,005s  \n",
      "\n",
      "2023-08-09 14:22:27 (1,63 MB/s) - ‘/home/radiofisica/Shares/Radiofisica/XiOAriaDrive/XiO/scripts/xioss’ saved [7741/7741]\n",
      "\n",
      "--2023-08-09 14:22:27--  https://raw.githubusercontent.com/csarux/XiOrecovery/main/scripts/genindex\n",
      "Resolving proxy.salud.madrid.org (proxy.salud.madrid.org)... 172.22.200.10\n",
      "Connecting to proxy.salud.madrid.org (proxy.salud.madrid.org)|172.22.200.10|:8080... connected.\n",
      "Proxy request sent, awaiting response... 200 OK\n",
      "Length: 612 [text/plain]\n",
      "Saving to: ‘/home/radiofisica/Shares/Radiofisica/XiOAriaDrive/XiO/scripts/genindex’\n",
      "\n",
      "genindex            100%[===================>]     612  --.-KB/s    in 0s      \n",
      "\n",
      "2023-08-09 14:22:27 (29,8 MB/s) - ‘/home/radiofisica/Shares/Radiofisica/XiOAriaDrive/XiO/scripts/genindex’ saved [612/612]\n",
      "\n",
      "--2023-08-09 14:22:28--  https://raw.githubusercontent.com/csarux/XiOrecovery/main/scripts/deltact\n",
      "Resolving proxy.salud.madrid.org (proxy.salud.madrid.org)... 172.22.200.10\n",
      "Connecting to proxy.salud.madrid.org (proxy.salud.madrid.org)|172.22.200.10|:8080... connected.\n",
      "Proxy request sent, awaiting response... 200 OK\n",
      "Length: 2408 (2,4K) [text/plain]\n",
      "Saving to: ‘/home/radiofisica/Shares/Radiofisica/XiOAriaDrive/XiO/scripts/deltact’\n",
      "\n",
      "deltact             100%[===================>]   2,35K  --.-KB/s    in 0,001s  \n",
      "\n",
      "2023-08-09 14:22:28 (1,67 MB/s) - ‘/home/radiofisica/Shares/Radiofisica/XiOAriaDrive/XiO/scripts/deltact’ saved [2408/2408]\n",
      "\n",
      "--2023-08-09 14:22:28--  https://raw.githubusercontent.com/csarux/XiOrecovery/main/scripts/dcmcoher.py\n",
      "Resolving proxy.salud.madrid.org (proxy.salud.madrid.org)... 172.22.200.10\n",
      "Connecting to proxy.salud.madrid.org (proxy.salud.madrid.org)|172.22.200.10|:8080... connected.\n",
      "Proxy request sent, awaiting response... 200 OK\n",
      "Length: 6316 (6,2K) [text/plain]\n",
      "Saving to: ‘/home/radiofisica/Shares/Radiofisica/XiOAriaDrive/XiO/scripts/dcmcoher.py’\n",
      "\n",
      "dcmcoher.py         100%[===================>]   6,17K  --.-KB/s    in 0,004s  \n",
      "\n",
      "2023-08-09 14:22:29 (1,44 MB/s) - ‘/home/radiofisica/Shares/Radiofisica/XiOAriaDrive/XiO/scripts/dcmcoher.py’ saved [6316/6316]\n",
      "\n"
     ]
    }
   ],
   "source": [
    "# Descargar los scripts de corrección\n",
    "if Path(baseworkdir + '/scripts').exists():\n",
    "  !rm -rf $baseworkdir/scripts\n",
    "!mkdir -p $baseworkdir/scripts\n",
    "!wget --directory-prefix $baseworkdir/scripts https://raw.githubusercontent.com/csarux/XiOrecovery/main/scripts/xioss\n",
    "!wget --directory-prefix $baseworkdir/scripts https://raw.githubusercontent.com/csarux/XiOrecovery/main/scripts/genindex\n",
    "!wget --directory-prefix $baseworkdir/scripts https://raw.githubusercontent.com/csarux/XiOrecovery/main/scripts/deltact\n",
    "!wget --directory-prefix $baseworkdir/scripts https://raw.githubusercontent.com/csarux/XiOrecovery/main/scripts/dcmcoher.py\n",
    "\n",
    "# Añadir al sistema la ruta de los scripts\n",
    "if baseworkdir + '/scripts' not in syspath:\n",
    "  syspath.insert(0, baseworkdir + '/scripts')"
   ]
  },
  {
   "cell_type": "markdown",
   "id": "cd9e7ef4-7f80-4321-be16-1e97d215f832",
   "metadata": {},
   "source": [
    "Recuperación de las estructuras"
   ]
  },
  {
   "cell_type": "code",
   "execution_count": 14,
   "id": "e4c3abbb-271d-47c2-bcbb-99cf5d615f54",
   "metadata": {},
   "outputs": [
    {
     "name": "stdout",
     "output_type": "stream",
     "text": [
      "Recuperar estructuras...\n",
      "mv: 'ss/patient.mha' and 'ss/patient.mha' are the same file\n",
      "mv: 'ss/EXTERNO.mha' and 'ss/EXTERNO.mha' are the same file\n",
      "mv: 'ss/pulmon dcho.mha' and 'ss/pulmon dcho.mha' are the same file\n",
      "mv: 'ss/pulmon izqdo.mha' and 'ss/pulmon izqdo.mha' are the same file\n",
      "mv: 'ss/medula.mha' and 'ss/medula.mha' are the same file\n",
      "mv: 'ss/vertebra.mha' and 'ss/vertebra.mha' are the same file\n",
      "mv: 'ss/corazon.mha' and 'ss/corazon.mha' are the same file\n",
      "mv: 'ss/esofago.mha' and 'ss/esofago.mha' are the same file\n",
      "mv: 'ss/2+4+10+11 R.mha' and 'ss/2+4+10+11 R.mha' are the same file\n",
      "mv: 'ss/PTV 50.4.mha' and 'ss/PTV 50.4.mha' are the same file\n",
      "mv: 'ss/3+5.mha' and 'ss/3+5.mha' are the same file\n",
      "Use of uninitialized value in string eq at /home/radiofisica/Shares/Radiofisica/XiOAriaDrive/XiO/patient/584953/anatomy/studyset/CT1/xioss line 152.\n",
      "Consistency lack in structure match between XiO contour file and plastimatch prefix output at /home/radiofisica/Shares/Radiofisica/XiOAriaDrive/XiO/patient/584953/anatomy/studyset/CT1/xioss line 152.\n"
     ]
    }
   ],
   "source": [
    "# Si no existe crear el índice de imágenes CT y las máscaras `.mha` de todas las estructuras\n",
    "if not Path(baseworkdir + '/patient/' + PatientID + '/anatomy/studyset/' + CT + '/index.dat').exists():\n",
    "    # Copiar el script para la creación del índice de cortes de CT\n",
    "    !cp $baseworkdir/scripts/genindex $baseworkdir/patient/$PatientID/anatomy/studyset/$CT\n",
    "    \n",
    "    # Adjudicar permisos de ejecución y crear el índice\n",
    "    !chmod +x $baseworkdir/patient/$PatientID/anatomy/studyset/$CT/genindex\n",
    "    cwd = getcwd()\n",
    "    %cd -q $baseworkdir/patient/$PatientID/anatomy/studyset/$CT\n",
    "    print('Generar el índice de imáagenes de CT...')\n",
    "    !./genindex\n",
    "    %cd -q $cwd\n",
    "\n",
    "# Crear la carpeta para los archivos máscara con las estructuras\n",
    "!mkdir -p $baseworkdir/patient/$PatientID/anatomy/studyset/$CT/ss\n",
    "\n",
    "# Copiar el script para la creación de las estructuras\n",
    "!cp $baseworkdir/scripts/xioss $baseworkdir/patient/$PatientID/anatomy/studyset/$CT\n",
    "\n",
    "# Correr el script de recuperación de las estructuras\n",
    "!chmod +x $baseworkdir/patient/$PatientID/anatomy/studyset/$CT/xioss\n",
    "print('Recuperar estructuras...')\n",
    "!$baseworkdir/patient/$PatientID/anatomy/studyset/$CT/xioss --input $baseworkdir/patient/$PatientID --plan $Plan --studyset $CT > xioss.log"
   ]
  },
  {
   "cell_type": "markdown",
   "id": "23febdab-086d-4515-ae32-df53cecb9ede",
   "metadata": {},
   "source": [
    "Conversion del CT, las estructuas y la dosis desde formato XIO a formato DICOM "
   ]
  },
  {
   "cell_type": "code",
   "execution_count": 15,
   "id": "66542fa4-a628-4d5e-a341-bbc79f1ef82c",
   "metadata": {},
   "outputs": [
    {
     "name": "stdout",
     "output_type": "stream",
     "text": [
      "\n",
      "Running 'plastimatch convert' with the specified arguments:\n",
      "  --input /home/radiofisica/Shares/Radiofisica/XiOAriaDrive/XiO/patient/584953/anatomy/studyset/CT1/DCMData\n",
      "  --input-prefix /home/radiofisica/Shares/Radiofisica/XiOAriaDrive/XiO/patient/584953/anatomy/studyset/CT1/ss\n",
      "  --input-dose-xio /home/radiofisica/Shares/Radiofisica/XiOAriaDrive/XiO/patient/584953/plan/1FASE1B/dose.1\n",
      "  --output-dicom /home/radiofisica/Shares/Radiofisica/XiOAriaDrive/XiO/../584953/plastimatch\n",
      "... Done.\n"
     ]
    }
   ],
   "source": [
    "# Variables de pyplastimatch\n",
    "verbose = True\n",
    "path_to_logfile_xiodcm = './' + PatientID + '_xiodcm.log'\n",
    "\n",
    "# Opciones de plastimatch convert\n",
    "convert_args_rt ={'input' :  baseworkdir + '/patient/' + PatientID  + '/anatomy/studyset/' + CT + '/DCMData',\n",
    "                  'input-prefix' : baseworkdir + '/patient/' + PatientID  + '/anatomy/studyset/' + CT + '/ss',\n",
    "                  'input-dose-xio' : baseworkdir + '/patient/' + PatientID  + '/plan/' + Plan + '/dose.1',\n",
    "                  'output-dicom' : baseworkdir + '/../' + PatientID + '/plastimatch'}\n",
    "\n",
    "# Correr el script de conversión de los datos XiO en estudio DICOM\n",
    "plast.convert(verbose=verbose, path_to_log_file=path_to_logfile_xiodcm, **convert_args_rt )"
   ]
  },
  {
   "cell_type": "markdown",
   "id": "5e05498a-0b52-485d-a416-66d5792d51aa",
   "metadata": {},
   "source": [
    "### Corrección de los marcos de referencia"
   ]
  },
  {
   "cell_type": "code",
   "execution_count": 16,
   "id": "89f79c38-0c72-4ff0-a2d2-0c9407d6d526",
   "metadata": {},
   "outputs": [
    {
     "name": "stdout",
     "output_type": "stream",
     "text": [
      "Establecer el mismo marco de referencia para las imágenes CT, las estructuras y la dosis...\n"
     ]
    }
   ],
   "source": [
    "# Referencia al directorio de trabajo actual\n",
    "cwd = getcwd()\n",
    "# Cambiar al directorio patient\n",
    "%cd -q $baseworkdir/patient\n",
    "\n",
    "# Copiar el script para determinar el delta entre los marcos de referencia del estudio CT y el plan\n",
    "!cp $baseworkdir/scripts/deltact .\n",
    "\n",
    "## Asegurar que el archivo se actualiza\n",
    "if Path('./deltaframes').exists():\n",
    "  !rm -f ./deltaframes\n",
    "## Adjudicar permisos de ejecución y calcular el delta\n",
    "!chmod +x deltact\n",
    "!./deltact --input $PatientID --studyset $CT > deltact.log\n",
    "\n",
    "## Regresar al directorio base\n",
    "%cd -q $baseworkdir\n",
    "\n",
    "# Importar las herramientas de corrección\n",
    "from dcmcoher import correctImagePositionPatientInCTImages\n",
    "\n",
    "# Establecer el mismo marco de referencia en todo el estudio\n",
    "print('Establecer el mismo marco de referencia para las imágenes CT, las estructuras y la dosis...')\n",
    "correctImagePositionPatientInCTImages(patientID=PatientID, studyset=CT, dcmdir=baseworkdir + '/../' + PatientID + '/plastimatch')\n",
    "\n",
    "# Volver al directorio inicial\n",
    "%cd -q $cwd"
   ]
  },
  {
   "cell_type": "markdown",
   "id": "d538736a-a16c-4170-8049-346e99e3f79c",
   "metadata": {},
   "source": [
    "### Crear plan contenedor (Velocity)"
   ]
  },
  {
   "cell_type": "markdown",
   "id": "10019822-0459-4e1c-80a9-9defb294f4eb",
   "metadata": {},
   "source": [
    "### Importar en ARIA"
   ]
  },
  {
   "cell_type": "code",
   "execution_count": null,
   "id": "1907960e-e508-4626-aa3d-89a7be1abc0c",
   "metadata": {},
   "outputs": [],
   "source": []
  }
 ],
 "metadata": {
  "kernelspec": {
   "display_name": "Python 3 (ipykernel)",
   "language": "python",
   "name": "python3"
  },
  "language_info": {
   "codemirror_mode": {
    "name": "ipython",
    "version": 3
   },
   "file_extension": ".py",
   "mimetype": "text/x-python",
   "name": "python",
   "nbconvert_exporter": "python",
   "pygments_lexer": "ipython3",
   "version": "3.11.4"
  }
 },
 "nbformat": 4,
 "nbformat_minor": 5
}
