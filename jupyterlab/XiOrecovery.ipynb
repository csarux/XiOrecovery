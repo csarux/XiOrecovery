{
 "cells": [
  {
   "cell_type": "markdown",
   "id": "e726f676-3250-4b66-99dd-f160e1b7d513",
   "metadata": {},
   "source": [
    "# Recuperación de pacientes de XiO\n",
    "-------------------\n",
    "## Descripción\n",
    "Mediante este cuaderno datos de *pacientes archivados en XiO se convierten a formato DICOM* para su importación en ARIA.\n",
    "\n",
    "Los datos archivados en XiO están almacenados en un servidor del Hospital al que se accede mediante `ftp`\n",
    "\n",
    "La conversión utiliza los programas `plastimatch`y `Velocity`\n",
    "\n",
    "`plastimatch` recupera de los datos de XiO las imágenes de CT, las estructuras y la dosis.\n",
    "\n",
    "`Velocity` añade un plan *contenedor* para poder importar la dosis en ARIA.\n",
    "\n",
    "## Procedimiento\n",
    "\n",
    "* Recuperar del servidor del Hospital el fichero con los datos archivados del paciente\n",
    "* Desarchivar los datos de XiO\n",
    "* Correr los scripts de recuperación de las imágenes CT, las estructuras y la dosis\n",
    "* Fijar un marco de referencia común para las imágenes CT, las estructuras y la dosis\n",
    "* Crear en Velocity un plan contenedor para la dosis\n",
    "* Importar en ARIA\n",
    "* Limpiar\n",
    "  \n",
    "### Recuperación de los datos archivados\n",
    "\n",
    "Esta fase requiere del uso de un cliente `ftp`.\n",
    "\n",
    "Se puede utilizar el siguiente código o si se prefiere un cliente gráfico, se recomienda instalar `FileZilla`.\n",
    "\n",
    "**La siguiente celda se tiene que modificar** para introducir el número de historia del paciente."
   ]
  },
  {
   "cell_type": "code",
   "execution_count": null,
   "id": "852409c4-62d7-4e55-9713-576fcd03a90d",
   "metadata": {},
   "outputs": [],
   "source": [
    "PatientID = '613964'"
   ]
  },
  {
   "cell_type": "markdown",
   "id": "8fa5743e-2663-4d30-903b-d54b04950fcb",
   "metadata": {},
   "source": [
    "En XiO los pacientes con diferentes cursos de tratamiento se archivaron cada vez que un curso se acababa.\n",
    "\n",
    "El archivado se realizó de forma integral de manera que cada archivo contiene a los anteriores.\n",
    "\n",
    "En la carpeta del paciente se tiene que elegir el archivado con la fecha más reciente.\n",
    "\n",
    "La siguiente celda muestra el contenido de la carpeta del paciente en el servidor `ftp`"
   ]
  },
  {
   "cell_type": "code",
   "execution_count": null,
   "id": "5f5adb20-387b-44b0-9223-1387ffe8cb4b",
   "metadata": {},
   "outputs": [],
   "source": [
    "import ftplib\n",
    "\n",
    "# Definir el servidor ftp y conectar\n",
    "ftp = ftplib.FTP('10.137.2.113')\n",
    "print(ftp.login(\"radioterapia\",\"radioterapia\"))\n",
    "from pathlib import Path\n",
    "\n",
    "# Cambiar el directorio en el servidor al directorio del paciente\n",
    "ftp.cwd(str(Path('/', 'Archivo', 'NoCategorizado', PatientID)))\n",
    "\n",
    "# Listar los datos archivados del paciente\n",
    "ArchivedFiles = ftp.nlst()\n",
    "print('Archivos del paciente:')\n",
    "import pandas as pd\n",
    "pd.DataFrame(ArchivedFiles, columns = ['Archivo'])"
   ]
  },
  {
   "cell_type": "markdown",
   "id": "b68c3aa4-ebb7-49fb-97ca-9c0059a9393c",
   "metadata": {},
   "source": [
    "**La siguiente celda se tiene que modificar** para actualizar el índice del archivo del archivo que se quiere recuperar del servidor ftp"
   ]
  },
  {
   "cell_type": "code",
   "execution_count": null,
   "id": "608cb1fe-7ecc-4460-a7aa-c2c6eba496fe",
   "metadata": {},
   "outputs": [],
   "source": [
    "ArchivedFileIndex = 0\n",
    "PatientArchivedFile = ArchivedFiles[ArchivedFileIndex]"
   ]
  },
  {
   "cell_type": "markdown",
   "id": "a9cd4ce1-0c8f-4aac-b194-7945c424671d",
   "metadata": {},
   "source": [
    "Hacer una copia del archivo del paciente en `XiOAriaDrive`"
   ]
  },
  {
   "cell_type": "code",
   "execution_count": null,
   "id": "6b0697b0-b66f-4f71-82fd-05deaafd19a4",
   "metadata": {},
   "outputs": [],
   "source": [
    "localfile = str(Path('/', 'home', 'radiofisica', 'Shares', 'Radiofisica','XiOAriaDrive', PatientArchivedFile))\n",
    "with open(localfile,'wb') as localf:\n",
    "    ftp.retrbinary(\"RETR \" + PatientArchivedFile, localf.write)"
   ]
  },
  {
   "cell_type": "markdown",
   "id": "fd58c155-5223-4f22-8e9f-9c3bffab709d",
   "metadata": {},
   "source": [
    "Cerrar la conexión con el servidor"
   ]
  },
  {
   "cell_type": "code",
   "execution_count": null,
   "id": "1258a04f-ea5f-4f36-a266-9dc3cc94bc87",
   "metadata": {},
   "outputs": [],
   "source": [
    "ftp.quit()"
   ]
  },
  {
   "cell_type": "markdown",
   "id": "10fae051-58b0-41ff-8f92-c29657013e7e",
   "metadata": {},
   "source": [
    "Si se ha optado por usar `FileZila` los datos de conexión son:\n",
    "* Servidor: **10.137.2.113**\n",
    "* Nombre de usuario: **radioterapia**\n",
    "* Contraseña: **radioterapia**\n",
    "\n",
    "Pulsar sobre el botón `Conexión rápida`\n",
    "\n",
    "En Sitio remoto navegar en la ruta `Archivo/No Categorizado` para seleccionar la carpeta del paciente que se quiere recuperar\n",
    "\n",
    "Seleccionar el archivo`.tgz`. Si hay varios elegir el más reciente\n",
    "\n",
    "Arrastrar el archivo sobre la carpeta `Radiofisica/XiOAriaDrive` del Sitio Local\n",
    "\n",
    "![FileZillaMainScreen](https://raw.githubusercontent.com/csarux/XiOrecovery/main/jupyterlab/Images/FileZillaMainScreen.PNG)\n",
    "### Desarchivar los datos de XiO"
   ]
  },
  {
   "cell_type": "markdown",
   "id": "26be3658-77f8-49d9-908e-42a204297b50",
   "metadata": {},
   "source": [
    "Definir el directorio de trabajo base"
   ]
  },
  {
   "cell_type": "code",
   "execution_count": null,
   "id": "7fc3ee55-e47e-446c-857f-919aa57b3206",
   "metadata": {},
   "outputs": [],
   "source": [
    "# Referenciar\n",
    "baseworkdir = '/home/radiofisica/Shares/Radiofisica/XiOAriaDrive/XiO'\n",
    "\n",
    "from pathlib import Path\n",
    "if not Path(baseworkdir).exists():\n",
    "    !mkdir -p $baseworkdir"
   ]
  },
  {
   "cell_type": "markdown",
   "id": "033dd75a-5d6a-4df6-84f8-98faf6da16df",
   "metadata": {},
   "source": [
    "**La siguiente celda se tiene que modificar** para definir el nombre del archivo con los datos archivados en XiO"
   ]
  },
  {
   "cell_type": "code",
   "execution_count": null,
   "id": "b81ba469-6f35-472d-b012-9cd92e768f13",
   "metadata": {},
   "outputs": [],
   "source": [
    "if 'PatientArchivedFile' not in locals():\n",
    "    PatientArchivedFile = '584955_SANCHEZ_CABALLERO_LUCIA_Mar_14_2011.tgz'"
   ]
  },
  {
   "cell_type": "markdown",
   "id": "9b36bec1-c653-43a7-9dd6-e525afb22533",
   "metadata": {},
   "source": [
    "Desarchivar"
   ]
  },
  {
   "cell_type": "code",
   "execution_count": null,
   "id": "0c8892c8-bcba-4975-a369-646b06d8bb6a",
   "metadata": {},
   "outputs": [],
   "source": [
    "%%capture\n",
    "!tar -xvzf $PatientArchivedFile -C $baseworkdir"
   ]
  },
  {
   "cell_type": "markdown",
   "id": "f43189a7-4e52-4dbd-aea5-116ee8082ae1",
   "metadata": {},
   "source": [
    "Mostrar la estructura de carpetas de los datos desarchivados"
   ]
  },
  {
   "cell_type": "code",
   "execution_count": null,
   "id": "a13a6baf-ec93-4fb3-9018-f12da74e826b",
   "metadata": {},
   "outputs": [],
   "source": [
    "!tree -d $baseworkdir/patient"
   ]
  },
  {
   "cell_type": "markdown",
   "id": "458858fc-b3c2-4db5-b3ee-b17ac1f72558",
   "metadata": {},
   "source": [
    "Recuperar datos relevantes.\n",
    "\n",
    "Número de historia y nombre y apellidos del paciente"
   ]
  },
  {
   "cell_type": "code",
   "execution_count": null,
   "id": "bab70053-852e-41e8-9288-530409bfa5a1",
   "metadata": {},
   "outputs": [],
   "source": [
    "# Número de historia\n",
    "if 'PatientID' not in locals():\n",
    "    PatientID = PatientArchivedFile.split('_')[0]\n",
    "\n",
    "# Nombre y apellidos\n",
    "demographicfile = !find $baseworkdir/patient/$PatientID -name demographic -print\n",
    "with open(demographicfile[0], 'r', encoding='latin') as demogf:\n",
    "  demographicdata = demogf.read()\n",
    "\n",
    "ApellidosNombre = demographicdata.split('\\n')[2]\n",
    "\n",
    "print(f'Historia: {PatientID}\\nApellidos y nombre: {ApellidosNombre}')"
   ]
  },
  {
   "cell_type": "markdown",
   "id": "96c6a494-11f9-4157-bf7b-c537130ca29c",
   "metadata": {},
   "source": [
    "**La siguiente celda se tiene que modificar** para definir el estudio CT y el plan que se quiere recuperar"
   ]
  },
  {
   "cell_type": "code",
   "execution_count": null,
   "id": "29b26b6e-771e-485e-a47f-ab84727d8305",
   "metadata": {},
   "outputs": [],
   "source": [
    "CT = 'CT1'\n",
    "Plan ='ptv1'"
   ]
  },
  {
   "cell_type": "markdown",
   "id": "a1d2031b-c17e-4428-b243-f2b773ff3b90",
   "metadata": {},
   "source": [
    "### Scripts de recuperación\n",
    "\n",
    "Importación de módulos"
   ]
  },
  {
   "cell_type": "code",
   "execution_count": null,
   "id": "d2f7b1e4-c30c-4156-b28a-13ea9d18e4fc",
   "metadata": {},
   "outputs": [],
   "source": [
    "# - Manipulación de archivos DICOM\n",
    "import pydicom as dicom\n",
    "# - Conversión del formato nativo de XiO a DICOM\n",
    "import pyplastimatch as plast\n",
    "# - Rutas y comprobaciones de existencia de ficheros\n",
    "from os import path, getcwd\n",
    "from glob import glob\n",
    "from sys import path as syspath"
   ]
  },
  {
   "cell_type": "markdown",
   "id": "490084bf-9423-429f-9fdc-9bd63e50109a",
   "metadata": {},
   "source": [
    "Crear la carpeta `scripts` en el directorio de trabajo base y poblarla con los scripts que complementan el funcionamiento de `plastimatch`"
   ]
  },
  {
   "cell_type": "code",
   "execution_count": null,
   "id": "0e707488-d5a6-441b-8901-68a3227e15cc",
   "metadata": {},
   "outputs": [],
   "source": [
    "# Descargar los scripts de corrección\n",
    "if Path(baseworkdir + '/scripts').exists():\n",
    "  !rm -rf $baseworkdir/scripts\n",
    "!mkdir -p $baseworkdir/scripts\n",
    "repodir = '/home/radiofisica/Shares/Radiofisica/csr/XiO/XiOrecovery/scripts'\n",
    "!cp  $repodir/xioss $baseworkdir/scripts \n",
    "!cp  $repodir/genindex $baseworkdir/scripts \n",
    "!cp  $repodir/deltact $baseworkdir/scripts \n",
    "!cp  $repodir/dcmcoher.py $baseworkdir/scripts \n",
    "\n",
    "# Añadir al sistema la ruta de los scripts\n",
    "if baseworkdir + '/scripts' not in syspath:\n",
    "  syspath.insert(0, baseworkdir + '/scripts')"
   ]
  },
  {
   "cell_type": "markdown",
   "id": "cd9e7ef4-7f80-4321-be16-1e97d215f832",
   "metadata": {},
   "source": [
    "Recuperación de las estructuras"
   ]
  },
  {
   "cell_type": "code",
   "execution_count": null,
   "id": "e4c3abbb-271d-47c2-bcbb-99cf5d615f54",
   "metadata": {},
   "outputs": [],
   "source": [
    "# Si no existe crear el índice de imágenes CT y las máscaras `.mha` de todas las estructuras\n",
    "if not Path(baseworkdir + '/patient/' + PatientID + '/anatomy/studyset/' + CT + '/index.dat').exists():\n",
    "    # Copiar el script para la creación del índice de cortes de CT\n",
    "    !cp $baseworkdir/scripts/genindex $baseworkdir/patient/$PatientID/anatomy/studyset/$CT\n",
    "    \n",
    "    # Adjudicar permisos de ejecución y crear el índice\n",
    "    !chmod +x $baseworkdir/patient/$PatientID/anatomy/studyset/$CT/genindex\n",
    "    cwd = getcwd()\n",
    "    %cd -q $baseworkdir/patient/$PatientID/anatomy/studyset/$CT\n",
    "    print('Generar el índice de imáagenes de CT...')\n",
    "    !./genindex\n",
    "    %cd -q $cwd\n",
    "\n",
    "# Crear la carpeta para los archivos máscara con las estructuras\n",
    "!mkdir -p $baseworkdir/patient/$PatientID/anatomy/studyset/$CT/ss\n",
    "\n",
    "# Copiar el script para la creación de las estructuras\n",
    "!cp $baseworkdir/scripts/xioss $baseworkdir/patient/$PatientID/anatomy/studyset/$CT\n",
    "\n",
    "# Correr el script de recuperación de las estructuras\n",
    "!chmod +x $baseworkdir/patient/$PatientID/anatomy/studyset/$CT/xioss\n",
    "print('Recuperar estructuras...')\n",
    "!$baseworkdir/patient/$PatientID/anatomy/studyset/$CT/xioss --input $baseworkdir/patient/$PatientID --plan $Plan --studyset $CT > xioss.log"
   ]
  },
  {
   "cell_type": "markdown",
   "id": "23febdab-086d-4515-ae32-df53cecb9ede",
   "metadata": {},
   "source": [
    "Conversión del CT, las estructuras y la dosis desde formato XIO a formato DICOM \n",
    "\n",
    "**La siguiente celda se tiene que modificar** para indicar si el paciente se simuló en prono y hay incoherencia entre la dosis y el CT.\n",
    "\n",
    "En XiO planificábamos los pacientes en prono sin cambiar la indicación de orientación del paciente en el CT.\n",
    "\n",
    "En algunos pacientes se indicó en XiO la orientación real del paciente Treatment orientation: Head Patient position on couch: Prone\n",
    "\n",
    "Esto produce una inconsitencia en el estudio exportado de XiO cuando se importa en ARIA: las estructuras y la dosis aparecen correctamente orientadas pero las imágenes de CT aparecen volteadas.\n",
    "\n",
    "Para solucionarlo en la siguiente celda moddificar `prono_correction = True` "
   ]
  },
  {
   "cell_type": "code",
   "execution_count": null,
   "id": "66542fa4-a628-4d5e-a341-bbc79f1ef82c",
   "metadata": {},
   "outputs": [],
   "source": [
    "# Variables de pyplastimatch\n",
    "prono_correction = False\n",
    "verbose = True\n",
    "path_to_logfile_xiodcm = './' + PatientID + '_xiodcm.log'\n",
    "\n",
    "# Opciones de plastimatch convert\n",
    "if prono_correction:\n",
    "    convert_args_rt ={'input' :  baseworkdir + '/patient/' + PatientID  + '/anatomy/studyset/' + CT + '/DCMData',\n",
    "                      'input-prefix' : baseworkdir + '/patient/' + PatientID  + '/anatomy/studyset/' + CT + '/ss',\n",
    "                      'input-dose-xio' : baseworkdir + '/patient/' + PatientID  + '/plan/' + Plan + '/dose.1',\n",
    "                      'output-dicom' : baseworkdir + '/../' + PatientID + '/plastimatch', 'patient-pos' : 'hfs'}\n",
    "else:\n",
    "    convert_args_rt ={'input' :  baseworkdir + '/patient/' + PatientID  + '/anatomy/studyset/' + CT + '/DCMData',\n",
    "                      'input-prefix' : baseworkdir + '/patient/' + PatientID  + '/anatomy/studyset/' + CT + '/ss',\n",
    "                      'input-dose-xio' : baseworkdir + '/patient/' + PatientID  + '/plan/' + Plan + '/dose.1',\n",
    "                      'output-dicom' : baseworkdir + '/../' + PatientID + '/plastimatch'}\n",
    "\n",
    "# Correr el script de conversión de los datos XiO en estudio DICOM\n",
    "plast.convert(verbose=verbose, path_to_log_file=path_to_logfile_xiodcm, **convert_args_rt )\n",
    "\n",
    "# Crear una carpeta para exportar los archivos trasformados en Velocity AI\n",
    "velocitydir = baseworkdir + '/../' + PatientID + '/velocity'\n",
    "!mkdir $velocitydir"
   ]
  },
  {
   "cell_type": "markdown",
   "id": "5e05498a-0b52-485d-a416-66d5792d51aa",
   "metadata": {},
   "source": [
    "### Corrección de los marcos de referencia"
   ]
  },
  {
   "cell_type": "code",
   "execution_count": null,
   "id": "89f79c38-0c72-4ff0-a2d2-0c9407d6d526",
   "metadata": {},
   "outputs": [],
   "source": [
    "# Referencia al directorio de trabajo actual\n",
    "cwd = getcwd()\n",
    "# Cambiar al directorio patient\n",
    "%cd -q $baseworkdir/patient\n",
    "\n",
    "# Copiar el script para determinar el delta entre los marcos de referencia del estudio CT y el plan\n",
    "!cp $baseworkdir/scripts/deltact .\n",
    "\n",
    "## Asegurar que el archivo se actualiza\n",
    "if Path('./deltaframes').exists():\n",
    "  !rm -f ./deltaframes\n",
    "## Adjudicar permisos de ejecución y calcular el delta\n",
    "!chmod +x deltact\n",
    "!./deltact --input $PatientID --studyset $CT > deltact.log\n",
    "\n",
    "## Regresar al directorio base\n",
    "%cd -q $baseworkdir\n",
    "\n",
    "# Importar las herramientas de corrección\n",
    "from dcmcoher import correctImagePositionPatientInCTImages\n",
    "\n",
    "# Establecer el mismo marco de referencia en todo el estudio\n",
    "print('Establecer el mismo marco de referencia para las imágenes CT, las estructuras y la dosis...')\n",
    "correctImagePositionPatientInCTImages(patientID=PatientID, studyset=CT, dcmdir=baseworkdir + '/../' + PatientID + '/plastimatch')\n",
    "\n",
    "# Volver al directorio inicial\n",
    "%cd -q $cwd"
   ]
  },
  {
   "cell_type": "markdown",
   "id": "d538736a-a16c-4170-8049-346e99e3f79c",
   "metadata": {},
   "source": [
    "### Crear plan contenedor (Velocity)\n",
    "\n",
    "Entrar en `Velocity AI`.\n",
    "\n",
    "Las credenciales del usuario genérico son:\n",
    "\n",
    "* Nombre: **velocity**\n",
    "* Contraseña: **Velocity01**\n",
    "\n",
    "![VelocityLogin](https://raw.githubusercontent.com/csarux/XiOrecovery/main/jupyterlab/Images/VelocityLogin.png) )\n",
    "\n",
    "En la pantalla principal pulsar sobre el icono de Menú ![VelocityMenu](https://raw.githubusercontent.com/csarux/XiOrecovery/main/jupyterlab/Images/VelocityMenu.png) y la opción de Importar ![VelocityImport](https://raw.githubusercontent.com/csarux/XiOrecovery/main/jupyterlab/Images/VelocityImport.png)\n",
    "\n",
    "Navegar hasta la carpeta que contiene los archivos generados mediante `plastimatch`, ruta: *Radiofisica/XiOAriaDrive/**Historia**/plastimatch*. Pulsar en ![VelocitySeleccionarCarpeta](https://raw.githubusercontent.com/csarux/XiOrecovery/main/jupyterlab/Images/VelocitySeleccionarCarpeta.png)\n",
    "\n",
    "`Velocity`leerá el contenido de la carpeta y deberá identificar un estudio de CT, un conjunto de estructuras y un archivo de dosis. Pulsar sobre `Import`\n",
    "\n",
    "![VelocityImportForm](https://raw.githubusercontent.com/csarux/XiOrecovery/main/jupyterlab/Images/VelocityImportForm.png)\n",
    "\n",
    "Tras la importación `Velocity` muestra un log de importación. Cerrar la ventana pulsando sobre ![VelocityCerrar](https://raw.githubusercontent.com/csarux/XiOrecovery/main/jupyterlab/Images/VelocityCerrar.png)\n",
    "\n",
    "![VelocityImportLog](https://raw.githubusercontent.com/csarux/XiOrecovery/main/jupyterlab/Images/VelocityImportLog.png)\n",
    "\n",
    "Hacer doble click sobre el paciente importado\n",
    "\n",
    "![VelocitySelectPatient](https://raw.githubusercontent.com/csarux/XiOrecovery/main/jupyterlab/Images/VelocitySelectPatient.png)\n",
    "\n",
    "En la siguiente ventana `Velocity`muestra los volúmenes importados (CT, estructuras y dosis) y las relaciones entre ellos\n",
    "\n",
    "![VelocityVolumes](https://raw.githubusercontent.com/csarux/XiOrecovery/main/jupyterlab/Images/VelocityVolumes.png)\n",
    "\n",
    "Seleccionar el botón `Start Navigator` ![VelocityStartNavigator](https://raw.githubusercontent.com/csarux/XiOrecovery/main/jupyterlab/Images/VelocityStartNavigator.png) y en el menú `Plan Operations` la opción `Create Container Plan`\n",
    "\n",
    "`Velocity` muestra un resumen de las acciones que va a realizar, de los requisitos necesarios, de los objetos que se generarán y del procedimiento.\n",
    "\n",
    "En nuestro caso elegiremos no exportar, y como volúmenes el estudio de CT, las estructuras y las dosis importadas de plastimatch.\n",
    "\n",
    "Pulsar el botón `Start` para iniciar el procedimiento\n",
    "\n",
    "![VelocityCreateContainerPlan](https://raw.githubusercontent.com/csarux/XiOrecovery/main/jupyterlab/Images/VelocityCreateContainerPlan.png)\n",
    "\n",
    "Elegir no enviar y continuar\n",
    "\n",
    "![VelocityDICOMLocation](https://raw.githubusercontent.com/csarux/XiOrecovery/main/jupyterlab/Images/VelocityDICOMLocation.png)\n",
    "\n",
    "Seleccionar el volumen de dosis y continuar\n",
    "\n",
    "![VelocityDoseVolume](https://raw.githubusercontent.com/csarux/XiOrecovery/main/jupyterlab/Images/VelocityDoseVolume.png)\n",
    "\n",
    "Seleccionar el estudio de CT y continuar\n",
    "\n",
    "![VelocityCTStudysetVolume](https://raw.githubusercontent.com/csarux/XiOrecovery/main/jupyterlab/Images/VelocityCTStudysetVolume.png)\n",
    "\n",
    "Seleccionar el conjunto de estructuras y continuar\n",
    "\n",
    "![VelocityStructureSetVolume](https://raw.githubusercontent.com/csarux/XiOrecovery/main/jupyterlab/Images/VelocityStructureSetVolume.png)\n",
    "\n",
    "Dar nombre al plan contenedor y continuar\n",
    "\n",
    "![VelocityPlanName](https://raw.githubusercontent.com/csarux/XiOrecovery/main/jupyterlab/Images/VelocityPlanName.png)\n",
    "\n",
    "Finalizar el procedimiento \n",
    "\n",
    "![VelocityCreateContainerPlanFinish](https://raw.githubusercontent.com/csarux/XiOrecovery/main/jupyterlab/Images/VelocityCreateContainerPlanFinish.png)\n",
    "\n",
    "`Velocity` muestra un resumen del proceso realizado. Pulsar el botón `Finished`\n",
    "\n",
    "![VelocityCreateContainerPlanSumary](https://raw.githubusercontent.com/csarux/XiOrecovery/main/jupyterlab/Images/VelocityCreateContainerPlanSumary.png)\n",
    "\n",
    "En el menú `Volumes` seleccionar el volumen de dosis **procesada** y con el botón derecho seleccionar la opción `Export`\n",
    "\n",
    "![VelocityDoseExport](https://raw.githubusercontent.com/csarux/XiOrecovery/main/jupyterlab/Images/VelocityDoseExport.png)\n",
    "\n",
    "Seleccionar la carpeta *velocity* dentro de la carpeta con el número de historia del paciente. Pulsar el botón `Seleccionar carpeta`\n",
    "\n",
    "![VelocityExportFolder](https://raw.githubusercontent.com/csarux/XiOrecovery/main/jupyterlab/Images/VelocityExportFolder.png)\n",
    "\n",
    "`Velocity` nos da un aviso sobre *aliasing*. Aceptamos\n",
    "\n",
    "![VelocityAliasingWarning](https://raw.githubusercontent.com/csarux/XiOrecovery/main/jupyterlab/Images/VelocityAliasingWarning.png)\n",
    "\n",
    "Repetimos el paso anterior para el estudio de CT\n",
    "\n",
    "![VelocityCTExport](https://raw.githubusercontent.com/csarux/XiOrecovery/main/jupyterlab/Images/VelocityCTExport.png)\n",
    "\n",
    "Para el conjunto de estructuras\n",
    "\n",
    "![VelocityStructureSetExport](https://raw.githubusercontent.com/csarux/XiOrecovery/main/jupyterlab/Images/VelocityStructureSetExport.png)\n",
    "\n",
    "Y para el plan contenedor\n",
    "\n",
    "![VelocityPlanExport](https://raw.githubusercontent.com/csarux/XiOrecovery/main/jupyterlab/Images/VelocityPlanExport.png)\n",
    "\n",
    "### Importar en ARIA\n",
    "\n",
    "Para facilitar la importación en ARIA comenzar copiando o moviendo la carpeta *velocity* a la unidad local **D:** del ordenador en el que estemos trabajando.\n",
    "\n",
    "En Aria ir a `DICOM > Import Export`\n",
    "\n",
    "En el paso *Filter Selecction* seleccionar el filtro de importación DICOM\n",
    "\n",
    "![AriaImportImages](https://raw.githubusercontent.com/csarux/XiOrecovery/main/jupyterlab/Images/AriaImportImages.png)\n",
    "\n",
    "En el paso *Import Selection* seleccionar la carpeta *velocity* de la unidad local **D:**\n",
    "\n",
    "![AriaImportSelectFolder](https://raw.githubusercontent.com/csarux/XiOrecovery/main/jupyterlab/Images/AriaImportSelectFolderRed.png)\n",
    "\n",
    "En el segundo paso de *Import Selection* confirmar que se han leído el estudio de CT, el conjunto de estructuras, el plan contenedor y la dosis, y que todos están seleccionados\n",
    "\n",
    "![AriaImportSelection](https://raw.githubusercontent.com/csarux/XiOrecovery/main/jupyterlab/Images/AriaImportSelection2.png)\n",
    "\n",
    "En el paso *Patient Selection* confirmar que los archivos a importar corresponden al paciente seleccionado\n",
    "\n",
    "![AriaPatientSelection](https://raw.githubusercontent.com/csarux/XiOrecovery/main/jupyterlab/Images/AriaPatientSelection.png)\n",
    "\n",
    "Para terminar la importación completar los pasos *Connection* y *Sumary*\n",
    "\n",
    "Por último abrir el estudio en Eclipse para comprobar que todo se ha realizado correctamente.\n",
    "\n",
    "#### Renormalización de la dosis\n",
    "\n",
    "Eclipse y XiO tratan de manera diferente la normalización de la dosis.\n",
    "\n",
    "Si aceptamos por defecto la normalización en Eclipse de las dosis calculadas en XiO, Eclipse asignará el 100% a la dosis máxima del plan $D_{max}$.\n",
    "\n",
    "Eclipse considera que el plan contenedor se realiza en una única sesión.\n",
    "\n",
    "Para asignar unas curvas de isodosis tales que en dosis relativa el 100% corresponda a la dosis de prescripción, en Eclipse en la pestaña `Dose` tenemos que:\n",
    "\n",
    "* Poner en la casilla `Total Dose [Gy]` el valor de la dosis total de prescripción del tratamiento $D_T$.\n",
    "* En `Plan Normalization Mode` ajustar `Plan Normalization Value` según la siguiente expresión\n",
    "  \\begin{equation}\n",
    "      \\text{Plan Normalization Value} = \\frac{D_T}{D_{max}}100.\n",
    "  \\end{equation}\n",
    "\n",
    "**Nota**: La dosis total de prescripción $D_T$ se puede consultar en **Selene > Departamentales** en los pdf con los informes de tratamiento.\n",
    "\n",
    "### Limpiar los archivos intermedios"
   ]
  },
  {
   "cell_type": "code",
   "execution_count": null,
   "id": "b50f078e-9ca7-44e6-9471-b033f300e750",
   "metadata": {},
   "outputs": [],
   "source": [
    "# Borrar las carpetas colocadas en XiOAriaDrive\n",
    "!rm -rf $baseworkdir\n",
    "patientdir = '/home/radiofisica/Shares/Radiofisica/XiOAriaDrive/' + PatientID\n",
    "!rm -rf $patientdir\n",
    "\n",
    "# Borrar el archivo traído mediante ftp con los datos archivados del paciente\n",
    "from os import remove\n",
    "PatientArchivedFileAbsolutePath = '/home/radiofisica/Shares/Radiofisica/XiOAriaDrive/' + PatientArchivedFile\n",
    "remove(PatientArchivedFileAbsolutePath)\n",
    "\n",
    "# Borrar el log de recuperación de estructuras\n",
    "remove('/home/radiofisica/Shares/Radiofisica/XiOAriaDrive/xioss.log')\n",
    "\n",
    "# Borrar el log de plastimatch\n",
    "remove('/home/radiofisica/Shares/Radiofisica/XiOAriaDrive/' + PatientID + '_xiodcm.log')\n",
    "\n",
    "# Borrar si existe el archivo de bloqueo de Focus/XiO\n",
    "from os.path import exists\n",
    "if exists('/home/radiofisica/Shares/Radiofisica/XiOAriaDrive/archive_configuration'):\n",
    "    remove('/home/radiofisica/Shares/Radiofisica/XiOAriaDrive/archive_configuration')"
   ]
  },
  {
   "cell_type": "markdown",
   "id": "bf30047b-155f-4ee3-92e9-4484f28346dd",
   "metadata": {},
   "source": [
    "Borrar manualmente la carpeta *velocity* de la unidad local **D:**"
   ]
  }
 ],
 "metadata": {
  "kernelspec": {
   "display_name": "Python 3 (ipykernel)",
   "language": "python",
   "name": "python3"
  },
  "language_info": {
   "codemirror_mode": {
    "name": "ipython",
    "version": 3
   },
   "file_extension": ".py",
   "mimetype": "text/x-python",
   "name": "python",
   "nbconvert_exporter": "python",
   "pygments_lexer": "ipython3",
   "version": "3.11.4"
  }
 },
 "nbformat": 4,
 "nbformat_minor": 5
}
